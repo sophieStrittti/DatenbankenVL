{
 "cells": [
  {
   "cell_type": "code",
   "execution_count": 1,
   "id": "caa5b183",
   "metadata": {},
   "outputs": [],
   "source": [
    "from pyspark.sql import SparkSession\n",
    "\n",
    "spark = SparkSession.builder.master(\"local[1]\").appName(\"Datenbanken in Spark\").getOrCreate()"
   ]
  },
  {
   "cell_type": "code",
   "execution_count": 2,
   "id": "34bdf447",
   "metadata": {},
   "outputs": [
    {
     "data": {
      "text/html": [
       "\n",
       "            <div>\n",
       "                <p><b>SparkSession - in-memory</b></p>\n",
       "                \n",
       "        <div>\n",
       "            <p><b>SparkContext</b></p>\n",
       "\n",
       "            <p><a href=\"http://0615ab12c72f:4040\">Spark UI</a></p>\n",
       "\n",
       "            <dl>\n",
       "              <dt>Version</dt>\n",
       "                <dd><code>v3.3.1</code></dd>\n",
       "              <dt>Master</dt>\n",
       "                <dd><code>local[1]</code></dd>\n",
       "              <dt>AppName</dt>\n",
       "                <dd><code>Datenbanken in Spark</code></dd>\n",
       "            </dl>\n",
       "        </div>\n",
       "        \n",
       "            </div>\n",
       "        "
      ],
      "text/plain": [
       "<pyspark.sql.session.SparkSession at 0x7f94801a0e50>"
      ]
     },
     "execution_count": 2,
     "metadata": {},
     "output_type": "execute_result"
    }
   ],
   "source": [
    "spark"
   ]
  },
  {
   "cell_type": "code",
   "execution_count": 4,
   "id": "98a80f8e",
   "metadata": {},
   "outputs": [
    {
     "name": "stdout",
     "output_type": "stream",
     "text": [
      ".profile\n",
      ".bash_logout\n",
      ".bashrc\n",
      "Spark Intro.ipynb\n",
      ".wget-hsts\n",
      "a19537d3cf37c122db841d6fe4cd322bc10d1a558bb00d146b85cb9a\n",
      "931dd2884a0ac1b9cbc2ea92a8a43452380620da30c9f613220f7e78\n",
      "e7fd425a762b70d9075d0a1d715e0d6fbc7c3971fde1a1eec050a37d\n",
      "dda1dc9c2defe69bd4d08f9ea4d3e75ee224c1c675a9b09b6d263c0d\n",
      "31dcde5c4327f7fbc7fcd54fe164637e70d0bd85e0a9c23e4453403d\n",
      "pyspark-3.3.1-py2.py3-none-any.whl\n",
      "origin.json\n",
      "ab2bb442149194bcbab5700d8f932112632ba9320db09910f4a4422b\n",
      "fontlist-v330.json\n",
      "jupyter_notebook_config.py\n",
      "migrated\n",
      "Spark Intro-checkpoint.ipynb\n",
      "nbsignatures.db\n",
      "notebook_secret\n",
      "kernel-4f8a2bbe-dce9-4d0d-a287-2da7b2848b25.json\n",
      "notebook_cookie_secret\n",
      "nbserver-7-open.html\n",
      "nbserver-7.json\n",
      "history.sqlite\n",
      "history.sqlite-journal\n",
      "README\n",
      "environments.txt\n",
      "2022-12-05T03_08_27_542Z-debug-0.log\n"
     ]
    }
   ],
   "source": [
    "# inhalt eines directories anschauen\n",
    "import os\n",
    "\n",
    "for subdir, dirs, files in os.walk('./'):\n",
    "    for file in files:\n",
    "        print(file)"
   ]
  },
  {
   "cell_type": "code",
   "execution_count": 5,
   "id": "bc6d3610",
   "metadata": {},
   "outputs": [
    {
     "name": "stdout",
     "output_type": "stream",
     "text": [
      "/home/jovyan\r\n"
     ]
    }
   ],
   "source": [
    "!pwd"
   ]
  },
  {
   "cell_type": "code",
   "execution_count": 6,
   "id": "f96fcbda",
   "metadata": {},
   "outputs": [
    {
     "name": "stdout",
     "output_type": "stream",
     "text": [
      "'Spark Intro.ipynb'   studibier.csv   work\r\n"
     ]
    }
   ],
   "source": [
    "!ls"
   ]
  },
  {
   "cell_type": "code",
   "execution_count": 7,
   "id": "ca27c5a0",
   "metadata": {},
   "outputs": [],
   "source": [
    "textfile = spark.read.text(\"Spark Intro.ipynb\")"
   ]
  },
  {
   "cell_type": "code",
   "execution_count": 8,
   "id": "7eec8e76",
   "metadata": {},
   "outputs": [
    {
     "data": {
      "text/plain": [
       "177"
      ]
     },
     "execution_count": 8,
     "metadata": {},
     "output_type": "execute_result"
    }
   ],
   "source": [
    "textfile.count()"
   ]
  },
  {
   "cell_type": "code",
   "execution_count": 9,
   "id": "6f7eb1bd",
   "metadata": {},
   "outputs": [
    {
     "data": {
      "text/plain": [
       "Row(value='{')"
      ]
     },
     "execution_count": 9,
     "metadata": {},
     "output_type": "execute_result"
    }
   ],
   "source": [
    "textfile.first()"
   ]
  },
  {
   "cell_type": "code",
   "execution_count": 10,
   "id": "6c718381",
   "metadata": {},
   "outputs": [
    {
     "name": "stdout",
     "output_type": "stream",
     "text": [
      "+--------------------+\n",
      "|               value|\n",
      "+--------------------+\n",
      "|                   {|\n",
      "|          \"cells\": [|\n",
      "|                   {|\n",
      "|   \"cell_type\": \"...|\n",
      "|   \"execution_cou...|\n",
      "|   \"id\": \"2bb33ef6\",|\n",
      "|     \"metadata\": {},|\n",
      "|      \"outputs\": [],|\n",
      "|         \"source\": [|\n",
      "|    \"from pyspark...|\n",
      "|               \"\\n\",|\n",
      "|    \"spark = Spar...|\n",
      "|                   ]|\n",
      "|                  },|\n",
      "|                   {|\n",
      "|   \"cell_type\": \"...|\n",
      "|   \"execution_cou...|\n",
      "|   \"id\": \"dca54890\",|\n",
      "|     \"metadata\": {},|\n",
      "|        \"outputs\": [|\n",
      "+--------------------+\n",
      "only showing top 20 rows\n",
      "\n"
     ]
    }
   ],
   "source": [
    "textfile.show()"
   ]
  },
  {
   "cell_type": "markdown",
   "id": "4add618a",
   "metadata": {},
   "source": [
    "csv in spark einlesen"
   ]
  },
  {
   "cell_type": "code",
   "execution_count": 11,
   "id": "9c7f4769",
   "metadata": {},
   "outputs": [
    {
     "name": "stdout",
     "output_type": "stream",
     "text": [
      "Name, Lieblingsbier, Alter\r\n",
      "James, Weizen, 23\r\n",
      "Money Penny, Brut IPA, 24\r\n",
      "Lara, NEIPA, 22\r\n",
      "Finn, Chimais, 17\r\n",
      "Peter, NEIPA, 16\r\n",
      "Jane, NEIPA, 22\r\n"
     ]
    }
   ],
   "source": [
    "!cat studibier.csv"
   ]
  },
  {
   "cell_type": "code",
   "execution_count": 12,
   "id": "aa0353c6",
   "metadata": {},
   "outputs": [],
   "source": [
    "studibier = spark.read.csv(\"studibier.csv\")"
   ]
  },
  {
   "cell_type": "code",
   "execution_count": 13,
   "id": "67d8b61e",
   "metadata": {},
   "outputs": [
    {
     "name": "stdout",
     "output_type": "stream",
     "text": [
      "+-----------+--------------+------+\n",
      "|        _c0|           _c1|   _c2|\n",
      "+-----------+--------------+------+\n",
      "|       Name| Lieblingsbier| Alter|\n",
      "|      James|        Weizen|    23|\n",
      "|Money Penny|      Brut IPA|    24|\n",
      "|       Lara|         NEIPA|    22|\n",
      "|       Finn|       Chimais|    17|\n",
      "|      Peter|         NEIPA|    16|\n",
      "|       Jane|         NEIPA|    22|\n",
      "+-----------+--------------+------+\n",
      "\n"
     ]
    }
   ],
   "source": [
    "studibier.show()"
   ]
  },
  {
   "cell_type": "code",
   "execution_count": 14,
   "id": "91cfec6e",
   "metadata": {},
   "outputs": [
    {
     "data": {
      "text/plain": [
       "7"
      ]
     },
     "execution_count": 14,
     "metadata": {},
     "output_type": "execute_result"
    }
   ],
   "source": [
    "studibier.count()"
   ]
  },
  {
   "cell_type": "code",
   "execution_count": 16,
   "id": "aa1a9cb2",
   "metadata": {},
   "outputs": [],
   "source": [
    "studibier2 = spark.read.option(\"header\", \"true\").csv(\"studibier.csv\")"
   ]
  },
  {
   "cell_type": "code",
   "execution_count": 17,
   "id": "54ead3a1",
   "metadata": {},
   "outputs": [
    {
     "name": "stdout",
     "output_type": "stream",
     "text": [
      "+-----------+--------------+------+\n",
      "|       Name| Lieblingsbier| Alter|\n",
      "+-----------+--------------+------+\n",
      "|      James|        Weizen|    23|\n",
      "|Money Penny|      Brut IPA|    24|\n",
      "|       Lara|         NEIPA|    22|\n",
      "|       Finn|       Chimais|    17|\n",
      "|      Peter|         NEIPA|    16|\n",
      "|       Jane|         NEIPA|    22|\n",
      "+-----------+--------------+------+\n",
      "\n"
     ]
    }
   ],
   "source": [
    "studibier2.show()"
   ]
  },
  {
   "cell_type": "code",
   "execution_count": 18,
   "id": "b29a93d7",
   "metadata": {},
   "outputs": [
    {
     "data": {
      "text/plain": [
       "DataFrame[Name: string,  Lieblingsbier: string,  Alter: string]"
      ]
     },
     "execution_count": 18,
     "metadata": {},
     "output_type": "execute_result"
    }
   ],
   "source": [
    "studibier2"
   ]
  },
  {
   "cell_type": "code",
   "execution_count": 19,
   "id": "9aaf0abc",
   "metadata": {},
   "outputs": [
    {
     "data": {
      "text/plain": [
       "[('Name', 'string'), (' Lieblingsbier', 'string'), (' Alter', 'string')]"
      ]
     },
     "execution_count": 19,
     "metadata": {},
     "output_type": "execute_result"
    }
   ],
   "source": [
    "studibier2.dtypes"
   ]
  },
  {
   "cell_type": "code",
   "execution_count": 20,
   "id": "1e4b4504",
   "metadata": {},
   "outputs": [
    {
     "data": {
      "text/plain": [
       "DataFrame[summary: string, Name: string,  Lieblingsbier: string,  Alter: string]"
      ]
     },
     "execution_count": 20,
     "metadata": {},
     "output_type": "execute_result"
    }
   ],
   "source": [
    "studibier2.describe()"
   ]
  },
  {
   "cell_type": "code",
   "execution_count": 21,
   "id": "9ac8db9c",
   "metadata": {},
   "outputs": [],
   "source": [
    "studibier = spark.read.option(\"header\", \"true\").csv(\"studibier.csv\", inferSchema=True)"
   ]
  },
  {
   "cell_type": "code",
   "execution_count": 22,
   "id": "bfa596b3",
   "metadata": {},
   "outputs": [
    {
     "data": {
      "text/plain": [
       "DataFrame[Name: string,  Lieblingsbier: string,  Alter: double]"
      ]
     },
     "execution_count": 22,
     "metadata": {},
     "output_type": "execute_result"
    }
   ],
   "source": [
    "studibier"
   ]
  },
  {
   "cell_type": "code",
   "execution_count": 23,
   "id": "1ac8f0b2",
   "metadata": {},
   "outputs": [
    {
     "name": "stdout",
     "output_type": "stream",
     "text": [
      "+-----------+--------------+------+\n",
      "|       Name| Lieblingsbier| Alter|\n",
      "+-----------+--------------+------+\n",
      "|      James|        Weizen|  23.0|\n",
      "|Money Penny|      Brut IPA|  24.0|\n",
      "|       Lara|         NEIPA|  22.0|\n",
      "|       Finn|       Chimais|  17.0|\n",
      "|      Peter|         NEIPA|  16.0|\n",
      "|       Jane|         NEIPA|  22.0|\n",
      "+-----------+--------------+------+\n",
      "\n"
     ]
    }
   ],
   "source": [
    "studibier.show()"
   ]
  },
  {
   "cell_type": "code",
   "execution_count": 24,
   "id": "8483dd03",
   "metadata": {},
   "outputs": [
    {
     "data": {
      "text/plain": [
       "['Name', ' Lieblingsbier', ' Alter']"
      ]
     },
     "execution_count": 24,
     "metadata": {},
     "output_type": "execute_result"
    }
   ],
   "source": [
    "studibier.columns"
   ]
  },
  {
   "cell_type": "code",
   "execution_count": 32,
   "id": "de0ed31e",
   "metadata": {},
   "outputs": [
    {
     "name": "stdout",
     "output_type": "stream",
     "text": [
      "+--------------+\n",
      "| Lieblingsbier|\n",
      "+--------------+\n",
      "|       Chimais|\n",
      "|      Brut IPA|\n",
      "|         NEIPA|\n",
      "|        Weizen|\n",
      "+--------------+\n",
      "\n"
     ]
    }
   ],
   "source": [
    "studibier.select(\" Lieblingsbier\").distinct().show()"
   ]
  },
  {
   "cell_type": "code",
   "execution_count": 34,
   "id": "16cc0461",
   "metadata": {},
   "outputs": [
    {
     "name": "stdout",
     "output_type": "stream",
     "text": [
      "+------------------+\n",
      "|        avg(Alter)|\n",
      "+------------------+\n",
      "|20.666666666666668|\n",
      "+------------------+\n",
      "\n"
     ]
    }
   ],
   "source": [
    "studibier.withColumnRenamed(' Alter', 'Alter').agg({\"Alter\": \"avg\"}).show()"
   ]
  },
  {
   "cell_type": "code",
   "execution_count": 36,
   "id": "cb8c4364",
   "metadata": {},
   "outputs": [
    {
     "name": "stdout",
     "output_type": "stream",
     "text": [
      "+--------------+------+\n",
      "| Lieblingsbier| Alter|\n",
      "+--------------+------+\n",
      "|         NEIPA|  22.0|\n",
      "|         NEIPA|  16.0|\n",
      "|        Weizen|  23.0|\n",
      "|      Brut IPA|  24.0|\n",
      "|       Chimais|  17.0|\n",
      "+--------------+------+\n",
      "\n"
     ]
    }
   ],
   "source": [
    "studibier.select([\" Lieblingsbier\", \" Alter\"]).distinct().show()"
   ]
  },
  {
   "cell_type": "code",
   "execution_count": 37,
   "id": "47931856",
   "metadata": {},
   "outputs": [
    {
     "name": "stdout",
     "output_type": "stream",
     "text": [
      "+--------------+------+\n",
      "| Lieblingsbier| Alter|\n",
      "+--------------+------+\n",
      "|        Weizen|  23.0|\n",
      "|      Brut IPA|  24.0|\n",
      "|         NEIPA|  22.0|\n",
      "|       Chimais|  17.0|\n",
      "|         NEIPA|  16.0|\n",
      "|         NEIPA|  22.0|\n",
      "+--------------+------+\n",
      "\n"
     ]
    }
   ],
   "source": [
    "studibier.select([\" Lieblingsbier\", \" Alter\"]).show()"
   ]
  },
  {
   "cell_type": "code",
   "execution_count": 39,
   "id": "a85153fd",
   "metadata": {},
   "outputs": [
    {
     "name": "stdout",
     "output_type": "stream",
     "text": [
      "+-----------+--------------+------+-------------------+\n",
      "|       Name| Lieblingsbier| Alter|Alter nach 2 Jahren|\n",
      "+-----------+--------------+------+-------------------+\n",
      "|      James|        Weizen|  23.0|               25.0|\n",
      "|Money Penny|      Brut IPA|  24.0|               26.0|\n",
      "|       Lara|         NEIPA|  22.0|               24.0|\n",
      "|       Finn|       Chimais|  17.0|               19.0|\n",
      "|      Peter|         NEIPA|  16.0|               18.0|\n",
      "|       Jane|         NEIPA|  22.0|               24.0|\n",
      "+-----------+--------------+------+-------------------+\n",
      "\n"
     ]
    }
   ],
   "source": [
    "studibier.withColumn('Alter nach 2 Jahren', studibier[' Alter']+2).show()"
   ]
  },
  {
   "cell_type": "code",
   "execution_count": 40,
   "id": "a7d49910",
   "metadata": {},
   "outputs": [
    {
     "name": "stdout",
     "output_type": "stream",
     "text": [
      "+-----------+--------------+------+-------------------+----+\n",
      "|       Name| Lieblingsbier| Alter|Alter nach 2 Jahren|Eins|\n",
      "+-----------+--------------+------+-------------------+----+\n",
      "|      James|        Weizen|  23.0|               25.0|   1|\n",
      "|Money Penny|      Brut IPA|  24.0|               26.0|   1|\n",
      "|       Lara|         NEIPA|  22.0|               24.0|   1|\n",
      "|       Finn|       Chimais|  17.0|               19.0|   1|\n",
      "|      Peter|         NEIPA|  16.0|               18.0|   1|\n",
      "|       Jane|         NEIPA|  22.0|               24.0|   1|\n",
      "+-----------+--------------+------+-------------------+----+\n",
      "\n"
     ]
    }
   ],
   "source": [
    "from pyspark.sql.functions import lit\n",
    "studibier.withColumn('Alter nach 2 Jahren', studibier[' Alter']+2).withColumn('Eins', lit(1)).show()"
   ]
  },
  {
   "cell_type": "code",
   "execution_count": 41,
   "id": "fceb3a54",
   "metadata": {},
   "outputs": [],
   "source": [
    "studibierMitSpalten = studibier.withColumn('Alter nach 2 Jahren', studibier[' Alter']+2).withColumn('Eins', lit(1))"
   ]
  },
  {
   "cell_type": "code",
   "execution_count": 42,
   "id": "d1b4d7a5",
   "metadata": {},
   "outputs": [
    {
     "name": "stdout",
     "output_type": "stream",
     "text": [
      "+-----------+--------------+------+-------------------+\n",
      "|       Name| Lieblingsbier| Alter|Alter nach 2 Jahren|\n",
      "+-----------+--------------+------+-------------------+\n",
      "|      James|        Weizen|  23.0|               25.0|\n",
      "|Money Penny|      Brut IPA|  24.0|               26.0|\n",
      "|       Lara|         NEIPA|  22.0|               24.0|\n",
      "|       Finn|       Chimais|  17.0|               19.0|\n",
      "|      Peter|         NEIPA|  16.0|               18.0|\n",
      "|       Jane|         NEIPA|  22.0|               24.0|\n",
      "+-----------+--------------+------+-------------------+\n",
      "\n"
     ]
    }
   ],
   "source": [
    "studibierMitSpalten.drop('Eins').show()"
   ]
  },
  {
   "cell_type": "code",
   "execution_count": 43,
   "id": "bdbc479e",
   "metadata": {},
   "outputs": [
    {
     "name": "stdout",
     "output_type": "stream",
     "text": [
      "+-----------+--------------+------+-------------------+----+\n",
      "|       Name| Lieblingsbier| Alter|Alter nach 2 Jahren|Eins|\n",
      "+-----------+--------------+------+-------------------+----+\n",
      "|      James|        Weizen|  23.0|               25.0|   1|\n",
      "|Money Penny|      Brut IPA|  24.0|               26.0|   1|\n",
      "|       Lara|         NEIPA|  22.0|               24.0|   1|\n",
      "|       Finn|       Chimais|  17.0|               19.0|   1|\n",
      "|      Peter|         NEIPA|  16.0|               18.0|   1|\n",
      "|       Jane|         NEIPA|  22.0|               24.0|   1|\n",
      "+-----------+--------------+------+-------------------+----+\n",
      "\n"
     ]
    }
   ],
   "source": [
    "studibierMitSpalten.show()"
   ]
  },
  {
   "cell_type": "code",
   "execution_count": 52,
   "id": "f3a94c32",
   "metadata": {},
   "outputs": [
    {
     "name": "stdout",
     "output_type": "stream",
     "text": [
      "+-----------+--------------+------+\n",
      "|       Name| Lieblingsbier| Alter|\n",
      "+-----------+--------------+------+\n",
      "|      James|        Weizen|  23.0|\n",
      "|Money Penny|      Brut IPA|  24.0|\n",
      "|       Lara|         NEIPA|  22.0|\n",
      "|       Finn|       Chimais|  17.0|\n",
      "|      Peter|         NEIPA|  16.0|\n",
      "|       Jane|         NEIPA|  22.0|\n",
      "|      James|        Weizen|  23.0|\n",
      "|Money Penny|      Brut IPA|  24.0|\n",
      "|       Lara|         NEIPA|  22.0|\n",
      "|       Finn|       Chimais|  17.0|\n",
      "|      Peter|         NEIPA|  16.0|\n",
      "|       Jane|         NEIPA|  22.0|\n",
      "+-----------+--------------+------+\n",
      "\n"
     ]
    },
    {
     "data": {
      "text/plain": [
       "StructType([StructField('Name', StringType(), True), StructField(' Lieblingsbier', StringType(), True), StructField(' Alter', DoubleType(), True)])"
      ]
     },
     "execution_count": 52,
     "metadata": {},
     "output_type": "execute_result"
    }
   ],
   "source": [
    "studibier.union(studibier).show()\n",
    "studibier.schema"
   ]
  },
  {
   "cell_type": "code",
   "execution_count": 64,
   "id": "9a2406b3",
   "metadata": {},
   "outputs": [
    {
     "name": "stdout",
     "output_type": "stream",
     "text": [
      "+-----------+--------------+------+\n",
      "|       Name| Lieblingsbier| Alter|\n",
      "+-----------+--------------+------+\n",
      "|      James|        Weizen|  23.0|\n",
      "|Money Penny|      Brut IPA|  24.0|\n",
      "|       Lara|         NEIPA|  22.0|\n",
      "|       Finn|       Chimais|  17.0|\n",
      "|      Peter|         NEIPA|  16.0|\n",
      "|       Jane|         NEIPA|  22.0|\n",
      "|        Max|        Weizen|  null|\n",
      "|       null|          null|  20.0|\n",
      "|        Tim|          null|  21.0|\n",
      "+-----------+--------------+------+\n",
      "\n"
     ]
    }
   ],
   "source": [
    "from pyspark.sql.types import StructType,StructField, StringType, DoubleType\n",
    "\n",
    "newRows = spark.createDataFrame([(\"Max\", \"Weizen\", None),(None, None, 20.0),(\"Tim\", None, 21.0)],schema=studibier.schema)\n",
    "\n",
    "naStudibier = studibier.union(newRows)\n",
    "naStudibier.show()"
   ]
  },
  {
   "cell_type": "code",
   "execution_count": 65,
   "id": "7c628668",
   "metadata": {},
   "outputs": [
    {
     "name": "stdout",
     "output_type": "stream",
     "text": [
      "+-----------+--------------+------+\n",
      "|       Name| Lieblingsbier| Alter|\n",
      "+-----------+--------------+------+\n",
      "|      James|        Weizen|  23.0|\n",
      "|Money Penny|      Brut IPA|  24.0|\n",
      "|       Lara|         NEIPA|  22.0|\n",
      "|       Finn|       Chimais|  17.0|\n",
      "|      Peter|         NEIPA|  16.0|\n",
      "|       Jane|         NEIPA|  22.0|\n",
      "+-----------+--------------+------+\n",
      "\n"
     ]
    }
   ],
   "source": [
    "naStudibier.na.drop(how=\"any\").show()"
   ]
  },
  {
   "cell_type": "code",
   "execution_count": null,
   "id": "8f78f3d3",
   "metadata": {},
   "outputs": [],
   "source": []
  }
 ],
 "metadata": {
  "kernelspec": {
   "display_name": "Python 3 (ipykernel)",
   "language": "python",
   "name": "python3"
  },
  "language_info": {
   "codemirror_mode": {
    "name": "ipython",
    "version": 3
   },
   "file_extension": ".py",
   "mimetype": "text/x-python",
   "name": "python",
   "nbconvert_exporter": "python",
   "pygments_lexer": "ipython3",
   "version": "3.10.8"
  }
 },
 "nbformat": 4,
 "nbformat_minor": 5
}
