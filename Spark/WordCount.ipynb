{
 "cells": [
  {
   "cell_type": "code",
   "execution_count": 1,
   "id": "15dc960e",
   "metadata": {},
   "outputs": [],
   "source": [
    "from pyspark.sql import SparkSession\n",
    "\n",
    "spark = SparkSession.builder.master(\"local[1]\").appName(\"Frankenstein\").getOrCreate()"
   ]
  },
  {
   "cell_type": "code",
   "execution_count": 2,
   "id": "af6967c2",
   "metadata": {},
   "outputs": [
    {
     "data": {
      "text/html": [
       "\n",
       "            <div>\n",
       "                <p><b>SparkSession - in-memory</b></p>\n",
       "                \n",
       "        <div>\n",
       "            <p><b>SparkContext</b></p>\n",
       "\n",
       "            <p><a href=\"http://0615ab12c72f:4040\">Spark UI</a></p>\n",
       "\n",
       "            <dl>\n",
       "              <dt>Version</dt>\n",
       "                <dd><code>v3.3.1</code></dd>\n",
       "              <dt>Master</dt>\n",
       "                <dd><code>local[1]</code></dd>\n",
       "              <dt>AppName</dt>\n",
       "                <dd><code>Frankenstein</code></dd>\n",
       "            </dl>\n",
       "        </div>\n",
       "        \n",
       "            </div>\n",
       "        "
      ],
      "text/plain": [
       "<pyspark.sql.session.SparkSession at 0x7fbbb01ab700>"
      ]
     },
     "execution_count": 2,
     "metadata": {},
     "output_type": "execute_result"
    }
   ],
   "source": [
    "spark"
   ]
  },
  {
   "cell_type": "code",
   "execution_count": 3,
   "id": "1cc92439",
   "metadata": {},
   "outputs": [
    {
     "name": "stdout",
     "output_type": "stream",
     "text": [
      "/home/jovyan\r\n"
     ]
    }
   ],
   "source": [
    "!pwd"
   ]
  },
  {
   "cell_type": "code",
   "execution_count": 4,
   "id": "fceffa64",
   "metadata": {},
   "outputs": [
    {
     "name": "stdout",
     "output_type": "stream",
     "text": [
      " frankensteinNotebook.ipynb  'Spark Intro.ipynb'   work\r\n",
      " frankenstein.txt\t      studibier.csv\r\n"
     ]
    }
   ],
   "source": [
    "!ls"
   ]
  },
  {
   "cell_type": "code",
   "execution_count": 5,
   "id": "c1ea1983",
   "metadata": {},
   "outputs": [],
   "source": []
  },
  {
   "cell_type": "code",
   "execution_count": 8,
   "id": "c8304762",
   "metadata": {},
   "outputs": [],
   "source": [
    "frankenstein = spark.read.text(\"frankenstein.txt\")"
   ]
  },
  {
   "cell_type": "code",
   "execution_count": 9,
   "id": "0b4a1153",
   "metadata": {},
   "outputs": [
    {
     "data": {
      "text/plain": [
       "7834"
      ]
     },
     "execution_count": 9,
     "metadata": {},
     "output_type": "execute_result"
    }
   ],
   "source": [
    "frankenstein.count()"
   ]
  },
  {
   "cell_type": "code",
   "execution_count": 10,
   "id": "c4b9c135",
   "metadata": {},
   "outputs": [
    {
     "data": {
      "text/plain": [
       "DataFrame[value: string]"
      ]
     },
     "execution_count": 10,
     "metadata": {},
     "output_type": "execute_result"
    }
   ],
   "source": [
    "frankenstein"
   ]
  },
  {
   "cell_type": "code",
   "execution_count": 12,
   "id": "16a19ad4",
   "metadata": {},
   "outputs": [
    {
     "name": "stdout",
     "output_type": "stream",
     "text": [
      "root\n",
      " |-- value: string (nullable = true)\n",
      "\n"
     ]
    }
   ],
   "source": [
    "frankenstein.printSchema()"
   ]
  },
  {
   "cell_type": "code",
   "execution_count": 13,
   "id": "161b6935",
   "metadata": {},
   "outputs": [
    {
     "name": "stdout",
     "output_type": "stream",
     "text": [
      "[('value', 'string')]\n"
     ]
    }
   ],
   "source": [
    "print(frankenstein.dtypes)"
   ]
  },
  {
   "cell_type": "code",
   "execution_count": 15,
   "id": "6dbf2873",
   "metadata": {},
   "outputs": [
    {
     "name": "stdout",
     "output_type": "stream",
     "text": [
      "ist das Element ein string: True\n"
     ]
    }
   ],
   "source": [
    "print(f\"ist das Element ein string: {frankenstein.dtypes[0][1] == 'string'}\")"
   ]
  },
  {
   "cell_type": "code",
   "execution_count": 17,
   "id": "b91bfc11",
   "metadata": {},
   "outputs": [
    {
     "name": "stdout",
     "output_type": "stream",
     "text": [
      "+-------------------------------------------------------------------------+\n",
      "|value                                                                    |\n",
      "+-------------------------------------------------------------------------+\n",
      "|                                                                         |\n",
      "|Project Gutenberg's Frankenstein, by Mary Wollstonecraft (Godwin) Shelley|\n",
      "|                                                                         |\n",
      "|This eBook is for the use of anyone anywhere at no cost and with         |\n",
      "|almost no restrictions whatsoever.  You may copy it, give it away or     |\n",
      "|re-use it under the terms of the Project Gutenberg License included      |\n",
      "|with this eBook or online at www.gutenberg.net                           |\n",
      "|                                                                         |\n",
      "|                                                                         |\n",
      "|Title: Frankenstein                                                      |\n",
      "|       or The Modern Prometheus                                          |\n",
      "|                                                                         |\n",
      "|Author: Mary Wollstonecraft (Godwin) Shelley                             |\n",
      "|                                                                         |\n",
      "|Release Date: June 17, 2008 [EBook #84]                                  |\n",
      "|Last updated: January 13, 2018                                           |\n",
      "|                                                                         |\n",
      "|Language: English                                                        |\n",
      "|                                                                         |\n",
      "|Character set encoding: UTF-8                                            |\n",
      "+-------------------------------------------------------------------------+\n",
      "only showing top 20 rows\n",
      "\n"
     ]
    }
   ],
   "source": [
    "frankenstein.show(truncate=False)"
   ]
  },
  {
   "cell_type": "code",
   "execution_count": 19,
   "id": "8733b74e",
   "metadata": {},
   "outputs": [
    {
     "name": "stdout",
     "output_type": "stream",
     "text": [
      "+----------------------------------------------------------------------------------+\n",
      "|                                                               split(value,  , -1)|\n",
      "+----------------------------------------------------------------------------------+\n",
      "|                                                                                []|\n",
      "|[Project, Gutenberg's, Frankenstein,, by, Mary, Wollstonecraft, (Godwin), Shelley]|\n",
      "|                                                                                []|\n",
      "|   [This, eBook, is, for, the, use, of, anyone, anywhere, at, no, cost, and, with]|\n",
      "|[almost, no, restrictions, whatsoever., , You, may, copy, it,, give, it, away, or]|\n",
      "|   [re-use, it, under, the, terms, of, the, Project, Gutenberg, License, included]|\n",
      "|                            [with, this, eBook, or, online, at, www.gutenberg.net]|\n",
      "|                                                                                []|\n",
      "|                                                                                []|\n",
      "|                                                            [Title:, Frankenstein]|\n",
      "+----------------------------------------------------------------------------------+\n",
      "only showing top 10 rows\n",
      "\n"
     ]
    }
   ],
   "source": [
    "from pyspark.sql.functions import split\n",
    "\n",
    "lines = frankenstein.select(split(frankenstein.value, \" \"))\n",
    "lines.show(10, truncate=100)"
   ]
  },
  {
   "cell_type": "code",
   "execution_count": 20,
   "id": "968cdac6",
   "metadata": {},
   "outputs": [
    {
     "name": "stdout",
     "output_type": "stream",
     "text": [
      "+----------------------------------------------------------------------------------+\n",
      "|                                                                             Zeile|\n",
      "+----------------------------------------------------------------------------------+\n",
      "|                                                                                []|\n",
      "|[Project, Gutenberg's, Frankenstein,, by, Mary, Wollstonecraft, (Godwin), Shelley]|\n",
      "|                                                                                []|\n",
      "|   [This, eBook, is, for, the, use, of, anyone, anywhere, at, no, cost, and, with]|\n",
      "|[almost, no, restrictions, whatsoever., , You, may, copy, it,, give, it, away, or]|\n",
      "|   [re-use, it, under, the, terms, of, the, Project, Gutenberg, License, included]|\n",
      "|                            [with, this, eBook, or, online, at, www.gutenberg.net]|\n",
      "|                                                                                []|\n",
      "|                                                                                []|\n",
      "|                                                            [Title:, Frankenstein]|\n",
      "+----------------------------------------------------------------------------------+\n",
      "only showing top 10 rows\n",
      "\n"
     ]
    }
   ],
   "source": [
    "lines = frankenstein.select(split(frankenstein.value, \" \").alias(\"Zeile\"))\n",
    "lines.show(10, truncate=100)"
   ]
  },
  {
   "cell_type": "code",
   "execution_count": 21,
   "id": "b75ae5b2",
   "metadata": {},
   "outputs": [
    {
     "name": "stdout",
     "output_type": "stream",
     "text": [
      "root\n",
      " |-- Zeile: array (nullable = true)\n",
      " |    |-- element: string (containsNull = false)\n",
      "\n"
     ]
    }
   ],
   "source": [
    "lines.printSchema()"
   ]
  },
  {
   "cell_type": "code",
   "execution_count": 22,
   "id": "01908125",
   "metadata": {},
   "outputs": [
    {
     "name": "stdout",
     "output_type": "stream",
     "text": [
      "+--------------------+\n",
      "|             Renamed|\n",
      "+--------------------+\n",
      "|                  []|\n",
      "|[Project, Gutenbe...|\n",
      "|                  []|\n",
      "|[This, eBook, is,...|\n",
      "|[almost, no, rest...|\n",
      "|[re-use, it, unde...|\n",
      "|[with, this, eBoo...|\n",
      "|                  []|\n",
      "|                  []|\n",
      "|[Title:, Frankens...|\n",
      "|[, , , , , , , or...|\n",
      "|                  []|\n",
      "|[Author:, Mary, W...|\n",
      "|                  []|\n",
      "|[Release, Date:, ...|\n",
      "|[Last, updated:, ...|\n",
      "|                  []|\n",
      "|[Language:, English]|\n",
      "|                  []|\n",
      "|[Character, set, ...|\n",
      "+--------------------+\n",
      "only showing top 20 rows\n",
      "\n"
     ]
    }
   ],
   "source": [
    "linesWCR = lines.withColumnRenamed(\"Zeile\", \"Renamed\")\n",
    "linesWCR.show()"
   ]
  },
  {
   "cell_type": "code",
   "execution_count": 23,
   "id": "6a1391cd",
   "metadata": {},
   "outputs": [
    {
     "name": "stdout",
     "output_type": "stream",
     "text": [
      "+-------------------------------------------------------------------------+\n",
      "|value                                                                    |\n",
      "+-------------------------------------------------------------------------+\n",
      "|                                                                         |\n",
      "|Project Gutenberg's Frankenstein, by Mary Wollstonecraft (Godwin) Shelley|\n",
      "|                                                                         |\n",
      "|This eBook is for the use of anyone anywhere at no cost and with         |\n",
      "|almost no restrictions whatsoever.  You may copy it, give it away or     |\n",
      "|re-use it under the terms of the Project Gutenberg License included      |\n",
      "|with this eBook or online at www.gutenberg.net                           |\n",
      "|                                                                         |\n",
      "|                                                                         |\n",
      "|Title: Frankenstein                                                      |\n",
      "|       or The Modern Prometheus                                          |\n",
      "|                                                                         |\n",
      "|Author: Mary Wollstonecraft (Godwin) Shelley                             |\n",
      "|                                                                         |\n",
      "|Release Date: June 17, 2008 [EBook #84]                                  |\n",
      "|Last updated: January 13, 2018                                           |\n",
      "|                                                                         |\n",
      "|Language: English                                                        |\n",
      "|                                                                         |\n",
      "|Character set encoding: UTF-8                                            |\n",
      "|                                                                         |\n",
      "|*** START OF THIS PROJECT GUTENBERG EBOOK FRANKENSTEIN ***               |\n",
      "|                                                                         |\n",
      "|                                                                         |\n",
      "|                                                                         |\n",
      "|                                                                         |\n",
      "|Produced by Judith Boss, Christy Phillips, Lynn Hanninen,                |\n",
      "|and David Meltzer. HTML version by Al Haines.                            |\n",
      "|Further corrections by Menno de Leeuw.                                   |\n",
      "|                                                                         |\n",
      "|                                                                         |\n",
      "|                                                                         |\n",
      "|Frankenstein;                                                            |\n",
      "|                                                                         |\n",
      "|                                                                         |\n",
      "|or, the Modern Prometheus                                                |\n",
      "|                                                                         |\n",
      "|                                                                         |\n",
      "|                                                                         |\n",
      "|                                                                         |\n",
      "|by                                                                       |\n",
      "|                                                                         |\n",
      "|                                                                         |\n",
      "|Mary Wollstonecraft (Godwin) Shelley                                     |\n",
      "|                                                                         |\n",
      "|                                                                         |\n",
      "|                                                                         |\n",
      "|                                                                         |\n",
      "|                                                                         |\n",
      "|                                                                         |\n",
      "|CONTENTS                                                                 |\n",
      "|                                                                         |\n",
      "|                                                                         |\n",
      "|                                                                         |\n",
      "|                                                                         |\n",
      "|Letter 1                                                                 |\n",
      "|                                                                         |\n",
      "|Letter 2                                                                 |\n",
      "|                                                                         |\n",
      "|Letter 3                                                                 |\n",
      "|                                                                         |\n",
      "|Letter 4                                                                 |\n",
      "|                                                                         |\n",
      "|Chapter 1                                                                |\n",
      "|                                                                         |\n",
      "|Chapter 2                                                                |\n",
      "|                                                                         |\n",
      "|Chapter 3                                                                |\n",
      "|                                                                         |\n",
      "|Chapter 4                                                                |\n",
      "|                                                                         |\n",
      "|Chapter 5                                                                |\n",
      "|                                                                         |\n",
      "|Chapter 6                                                                |\n",
      "|                                                                         |\n",
      "|Chapter 7                                                                |\n",
      "|                                                                         |\n",
      "|Chapter 8                                                                |\n",
      "|                                                                         |\n",
      "|Chapter 9                                                                |\n",
      "|                                                                         |\n",
      "|Chapter 10                                                               |\n",
      "|                                                                         |\n",
      "|Chapter 11                                                               |\n",
      "|                                                                         |\n",
      "|Chapter 12                                                               |\n",
      "|                                                                         |\n",
      "|Chapter 13                                                               |\n",
      "|                                                                         |\n",
      "|Chapter 14                                                               |\n",
      "|                                                                         |\n",
      "|Chapter 15                                                               |\n",
      "|                                                                         |\n",
      "|Chapter 16                                                               |\n",
      "|                                                                         |\n",
      "|Chapter 17                                                               |\n",
      "|                                                                         |\n",
      "|Chapter 18                                                               |\n",
      "|                                                                         |\n",
      "|Chapter 19                                                               |\n",
      "+-------------------------------------------------------------------------+\n",
      "only showing top 100 rows\n",
      "\n"
     ]
    }
   ],
   "source": [
    "frankenstein.show(100,truncate=False)"
   ]
  },
  {
   "cell_type": "code",
   "execution_count": 24,
   "id": "e39d4b0e",
   "metadata": {},
   "outputs": [
    {
     "name": "stdout",
     "output_type": "stream",
     "text": [
      "+--------------------------------------------------------------------------------------+\n",
      "|Zeile                                                                                 |\n",
      "+--------------------------------------------------------------------------------------+\n",
      "|[]                                                                                    |\n",
      "|[Project, Gutenberg, s, Frankenstein, , by, Mary, Wollstonecraft, , Godwin, , Shelley]|\n",
      "|[]                                                                                    |\n",
      "|[This, eBook, is, for, the, use, of, anyone, anywhere, at, no, cost, and, with]       |\n",
      "|[almost, no, restrictions, whatsoever, , , You, may, copy, it, , give, it, away, or]  |\n",
      "|[re, use, it, under, the, terms, of, the, Project, Gutenberg, License, included]      |\n",
      "|[with, this, eBook, or, online, at, www, gutenberg, net]                              |\n",
      "|[]                                                                                    |\n",
      "|[]                                                                                    |\n",
      "|[Title, , Frankenstein]                                                               |\n",
      "|[, , , , , , , or, The, Modern, Prometheus]                                           |\n",
      "|[]                                                                                    |\n",
      "|[Author, , Mary, Wollstonecraft, , Godwin, , Shelley]                                 |\n",
      "|[]                                                                                    |\n",
      "|[Release, Date, , June, , , , , , , , , , , EBook, , , , , ]                          |\n",
      "|[Last, updated, , January, , , , , , , , , ]                                          |\n",
      "|[]                                                                                    |\n",
      "|[Language, , English]                                                                 |\n",
      "|[]                                                                                    |\n",
      "|[Character, set, encoding, , UTF, , ]                                                 |\n",
      "|[]                                                                                    |\n",
      "|[, , , , START, OF, THIS, PROJECT, GUTENBERG, EBOOK, FRANKENSTEIN, , , , ]            |\n",
      "|[]                                                                                    |\n",
      "|[]                                                                                    |\n",
      "|[]                                                                                    |\n",
      "|[]                                                                                    |\n",
      "|[Produced, by, Judith, Boss, , Christy, Phillips, , Lynn, Hanninen, ]                 |\n",
      "|[and, David, Meltzer, , HTML, version, by, Al, Haines, ]                              |\n",
      "|[Further, corrections, by, Menno, de, Leeuw, ]                                        |\n",
      "|[]                                                                                    |\n",
      "|[]                                                                                    |\n",
      "|[]                                                                                    |\n",
      "|[Frankenstein, ]                                                                      |\n",
      "|[]                                                                                    |\n",
      "|[]                                                                                    |\n",
      "|[or, , the, Modern, Prometheus]                                                       |\n",
      "|[]                                                                                    |\n",
      "|[]                                                                                    |\n",
      "|[]                                                                                    |\n",
      "|[]                                                                                    |\n",
      "|[by]                                                                                  |\n",
      "|[]                                                                                    |\n",
      "|[]                                                                                    |\n",
      "|[Mary, Wollstonecraft, , Godwin, , Shelley]                                           |\n",
      "|[]                                                                                    |\n",
      "|[]                                                                                    |\n",
      "|[]                                                                                    |\n",
      "|[]                                                                                    |\n",
      "|[]                                                                                    |\n",
      "|[]                                                                                    |\n",
      "|[CONTENTS]                                                                            |\n",
      "|[]                                                                                    |\n",
      "|[]                                                                                    |\n",
      "|[]                                                                                    |\n",
      "|[]                                                                                    |\n",
      "|[Letter, , ]                                                                          |\n",
      "|[]                                                                                    |\n",
      "|[Letter, , ]                                                                          |\n",
      "|[]                                                                                    |\n",
      "|[Letter, , ]                                                                          |\n",
      "|[]                                                                                    |\n",
      "|[Letter, , ]                                                                          |\n",
      "|[]                                                                                    |\n",
      "|[Chapter, , ]                                                                         |\n",
      "|[]                                                                                    |\n",
      "|[Chapter, , ]                                                                         |\n",
      "|[]                                                                                    |\n",
      "|[Chapter, , ]                                                                         |\n",
      "|[]                                                                                    |\n",
      "|[Chapter, , ]                                                                         |\n",
      "|[]                                                                                    |\n",
      "|[Chapter, , ]                                                                         |\n",
      "|[]                                                                                    |\n",
      "|[Chapter, , ]                                                                         |\n",
      "|[]                                                                                    |\n",
      "|[Chapter, , ]                                                                         |\n",
      "|[]                                                                                    |\n",
      "|[Chapter, , ]                                                                         |\n",
      "|[]                                                                                    |\n",
      "|[Chapter, , ]                                                                         |\n",
      "|[]                                                                                    |\n",
      "|[Chapter, , , ]                                                                       |\n",
      "|[]                                                                                    |\n",
      "|[Chapter, , , ]                                                                       |\n",
      "|[]                                                                                    |\n",
      "|[Chapter, , , ]                                                                       |\n",
      "|[]                                                                                    |\n",
      "|[Chapter, , , ]                                                                       |\n",
      "|[]                                                                                    |\n",
      "|[Chapter, , , ]                                                                       |\n",
      "|[]                                                                                    |\n",
      "|[Chapter, , , ]                                                                       |\n",
      "|[]                                                                                    |\n",
      "|[Chapter, , , ]                                                                       |\n",
      "|[]                                                                                    |\n",
      "|[Chapter, , , ]                                                                       |\n",
      "|[]                                                                                    |\n",
      "|[Chapter, , , ]                                                                       |\n",
      "|[]                                                                                    |\n",
      "|[Chapter, , , ]                                                                       |\n",
      "+--------------------------------------------------------------------------------------+\n",
      "only showing top 100 rows\n",
      "\n"
     ]
    }
   ],
   "source": [
    "lines = frankenstein.select(split(frankenstein.value, \"[^a-zA-Z]\").alias(\"Zeile\"))\n",
    "lines.show(100, truncate=False)"
   ]
  },
  {
   "cell_type": "code",
   "execution_count": 26,
   "id": "3ecb73d8",
   "metadata": {},
   "outputs": [
    {
     "name": "stdout",
     "output_type": "stream",
     "text": [
      "+--------------------+\n",
      "|               Zeile|\n",
      "+--------------------+\n",
      "|                  []|\n",
      "|[Project, Gutenbe...|\n",
      "|                  []|\n",
      "|[This, eBook, is,...|\n",
      "|[almost, no, rest...|\n",
      "|[re, use, it, und...|\n",
      "|[with, this, eBoo...|\n",
      "|                  []|\n",
      "|                  []|\n",
      "|[Title, , Franken...|\n",
      "|[, , , , , , , or...|\n",
      "|                  []|\n",
      "|[Author, , Mary, ...|\n",
      "|                  []|\n",
      "|[Release, Date, ,...|\n",
      "|[Last, updated, ,...|\n",
      "|                  []|\n",
      "|[Language, , Engl...|\n",
      "|                  []|\n",
      "|[Character, set, ...|\n",
      "+--------------------+\n",
      "only showing top 20 rows\n",
      "\n",
      "+--------------------+\n",
      "|               Zeile|\n",
      "+--------------------+\n",
      "|                  []|\n",
      "|[Project, Gutenbe...|\n",
      "|                  []|\n",
      "|[This, eBook, is,...|\n",
      "|[almost, no, rest...|\n",
      "|[re, use, it, und...|\n",
      "|[with, this, eBoo...|\n",
      "|                  []|\n",
      "|                  []|\n",
      "|[Title, , Franken...|\n",
      "|[, , , , , , , or...|\n",
      "|                  []|\n",
      "|[Author, , Mary, ...|\n",
      "|                  []|\n",
      "|[Release, Date, ,...|\n",
      "|[Last, updated, ,...|\n",
      "|                  []|\n",
      "|[Language, , Engl...|\n",
      "|                  []|\n",
      "|[Character, set, ...|\n",
      "+--------------------+\n",
      "only showing top 20 rows\n",
      "\n",
      "+--------------------+\n",
      "|               Zeile|\n",
      "+--------------------+\n",
      "|                  []|\n",
      "|[Project, Gutenbe...|\n",
      "|                  []|\n",
      "|[This, eBook, is,...|\n",
      "|[almost, no, rest...|\n",
      "|[re, use, it, und...|\n",
      "|[with, this, eBoo...|\n",
      "|                  []|\n",
      "|                  []|\n",
      "|[Title, , Franken...|\n",
      "|[, , , , , , , or...|\n",
      "|                  []|\n",
      "|[Author, , Mary, ...|\n",
      "|                  []|\n",
      "|[Release, Date, ,...|\n",
      "|[Last, updated, ,...|\n",
      "|                  []|\n",
      "|[Language, , Engl...|\n",
      "|                  []|\n",
      "|[Character, set, ...|\n",
      "+--------------------+\n",
      "only showing top 20 rows\n",
      "\n",
      "+--------------------+\n",
      "|               Zeile|\n",
      "+--------------------+\n",
      "|                  []|\n",
      "|[Project, Gutenbe...|\n",
      "|                  []|\n",
      "|[This, eBook, is,...|\n",
      "|[almost, no, rest...|\n",
      "|[re, use, it, und...|\n",
      "|[with, this, eBoo...|\n",
      "|                  []|\n",
      "|                  []|\n",
      "|[Title, , Franken...|\n",
      "|[, , , , , , , or...|\n",
      "|                  []|\n",
      "|[Author, , Mary, ...|\n",
      "|                  []|\n",
      "|[Release, Date, ,...|\n",
      "|[Last, updated, ,...|\n",
      "|                  []|\n",
      "|[Language, , Engl...|\n",
      "|                  []|\n",
      "|[Character, set, ...|\n",
      "+--------------------+\n",
      "only showing top 20 rows\n",
      "\n"
     ]
    }
   ],
   "source": [
    "# Spalte selektieren geht auf verschiedene weisen\n",
    "lines.select(lines.Zeile).show()\n",
    "lines.select(\"Zeile\").show()\n",
    "\n",
    "from pyspark.sql.functions import col\n",
    "lines.select(col(\"Zeile\")).show()\n",
    "# lines[\"Zeile\"] ist nur eine spalte und keine Dataframe also geht lines[\"Zeile\"].show() nicht, aber folgendes:\n",
    "lines.select(lines[\"Zeile\"]).show()"
   ]
  },
  {
   "cell_type": "markdown",
   "id": "29c41d1d",
   "metadata": {},
   "source": [
    "# Exploding list of words into ROWS (nicht COLS)"
   ]
  },
  {
   "cell_type": "code",
   "execution_count": 27,
   "id": "5e750833",
   "metadata": {},
   "outputs": [],
   "source": [
    "from pyspark.sql.functions import explode, col"
   ]
  },
  {
   "cell_type": "code",
   "execution_count": 28,
   "id": "eb7f2407",
   "metadata": {},
   "outputs": [],
   "source": [
    "words = lines.select(explode(col(\"zeile\")).alias(\"word\"))"
   ]
  },
  {
   "cell_type": "code",
   "execution_count": 29,
   "id": "60adf9de",
   "metadata": {},
   "outputs": [
    {
     "name": "stdout",
     "output_type": "stream",
     "text": [
      "+--------------+\n",
      "|          word|\n",
      "+--------------+\n",
      "|              |\n",
      "|       Project|\n",
      "|     Gutenberg|\n",
      "|             s|\n",
      "|  Frankenstein|\n",
      "|              |\n",
      "|            by|\n",
      "|          Mary|\n",
      "|Wollstonecraft|\n",
      "|              |\n",
      "|        Godwin|\n",
      "|              |\n",
      "|       Shelley|\n",
      "|              |\n",
      "|          This|\n",
      "|         eBook|\n",
      "|            is|\n",
      "|           for|\n",
      "|           the|\n",
      "|           use|\n",
      "+--------------+\n",
      "only showing top 20 rows\n",
      "\n"
     ]
    }
   ],
   "source": [
    "words.show()"
   ]
  },
  {
   "cell_type": "code",
   "execution_count": 30,
   "id": "b86574db",
   "metadata": {},
   "outputs": [
    {
     "name": "stdout",
     "output_type": "stream",
     "text": [
      "+--------------+\n",
      "|word_lower    |\n",
      "+--------------+\n",
      "|              |\n",
      "|project       |\n",
      "|gutenberg     |\n",
      "|s             |\n",
      "|frankenstein  |\n",
      "|              |\n",
      "|by            |\n",
      "|mary          |\n",
      "|wollstonecraft|\n",
      "|              |\n",
      "|godwin        |\n",
      "|              |\n",
      "|shelley       |\n",
      "|              |\n",
      "|this          |\n",
      "|ebook         |\n",
      "|is            |\n",
      "|for           |\n",
      "|the           |\n",
      "|use           |\n",
      "+--------------+\n",
      "only showing top 20 rows\n",
      "\n"
     ]
    }
   ],
   "source": [
    "from pyspark.sql.functions import lower\n",
    "words_lower = words.select(lower(col(\"word\")).alias(\"word_lower\"))\n",
    "words_lower.show(truncate=False)"
   ]
  },
  {
   "cell_type": "code",
   "execution_count": 32,
   "id": "64e35291",
   "metadata": {},
   "outputs": [
    {
     "name": "stdout",
     "output_type": "stream",
     "text": [
      "+--------------+\n",
      "|     real_word|\n",
      "+--------------+\n",
      "|              |\n",
      "|       project|\n",
      "|     gutenberg|\n",
      "|              |\n",
      "|  frankenstein|\n",
      "|              |\n",
      "|            by|\n",
      "|          mary|\n",
      "|wollstonecraft|\n",
      "|              |\n",
      "|        godwin|\n",
      "|              |\n",
      "|       shelley|\n",
      "|              |\n",
      "|          this|\n",
      "|         ebook|\n",
      "|            is|\n",
      "|           for|\n",
      "|           the|\n",
      "|           use|\n",
      "+--------------+\n",
      "only showing top 20 rows\n",
      "\n"
     ]
    }
   ],
   "source": [
    "from pyspark.sql.functions import regexp_extract\n",
    "words_real = words_lower.select(regexp_extract(col(\"word_lower\"), \"[a-z]{2,}|a|i\", 0).alias(\"real_word\"))\n",
    "words_real.show()"
   ]
  },
  {
   "cell_type": "code",
   "execution_count": 33,
   "id": "9e619b37",
   "metadata": {},
   "outputs": [],
   "source": [
    "propper_words = words_real.filter(col(\"real_word\") != \"\")"
   ]
  },
  {
   "cell_type": "code",
   "execution_count": 34,
   "id": "85655c2e",
   "metadata": {},
   "outputs": [
    {
     "name": "stdout",
     "output_type": "stream",
     "text": [
      "+--------------+\n",
      "|     real_word|\n",
      "+--------------+\n",
      "|       project|\n",
      "|     gutenberg|\n",
      "|  frankenstein|\n",
      "|            by|\n",
      "|          mary|\n",
      "|wollstonecraft|\n",
      "|        godwin|\n",
      "|       shelley|\n",
      "|          this|\n",
      "|         ebook|\n",
      "|            is|\n",
      "|           for|\n",
      "|           the|\n",
      "|           use|\n",
      "|            of|\n",
      "|        anyone|\n",
      "|      anywhere|\n",
      "|            at|\n",
      "|            no|\n",
      "|          cost|\n",
      "+--------------+\n",
      "only showing top 20 rows\n",
      "\n"
     ]
    }
   ],
   "source": [
    "propper_words.show()"
   ]
  },
  {
   "cell_type": "code",
   "execution_count": 35,
   "id": "4b881804",
   "metadata": {},
   "outputs": [
    {
     "name": "stdout",
     "output_type": "stream",
     "text": [
      "+--------------+\n",
      "|     real_word|\n",
      "+--------------+\n",
      "|       project|\n",
      "|     gutenberg|\n",
      "|  frankenstein|\n",
      "|            by|\n",
      "|          mary|\n",
      "|wollstonecraft|\n",
      "|        godwin|\n",
      "|       shelley|\n",
      "|          this|\n",
      "|         ebook|\n",
      "|            is|\n",
      "|           for|\n",
      "|           the|\n",
      "|           use|\n",
      "|            of|\n",
      "|        anyone|\n",
      "|      anywhere|\n",
      "|            at|\n",
      "|            no|\n",
      "|          cost|\n",
      "+--------------+\n",
      "only showing top 20 rows\n",
      "\n"
     ]
    }
   ],
   "source": [
    "propper_wordsWHERE = words_real.where(col(\"real_word\") != \"\")\n",
    "propper_wordsWHERE.show()"
   ]
  },
  {
   "cell_type": "code",
   "execution_count": 38,
   "id": "afee503a",
   "metadata": {},
   "outputs": [
    {
     "name": "stdout",
     "output_type": "stream",
     "text": [
      "+--------------+\n",
      "|     real_word|\n",
      "+--------------+\n",
      "|       project|\n",
      "|     gutenberg|\n",
      "|  frankenstein|\n",
      "|          mary|\n",
      "|wollstonecraft|\n",
      "|        godwin|\n",
      "|       shelley|\n",
      "|          this|\n",
      "|         ebook|\n",
      "|        anyone|\n",
      "|      anywhere|\n",
      "|          cost|\n",
      "|          with|\n",
      "|        almost|\n",
      "|  restrictions|\n",
      "|    whatsoever|\n",
      "|          copy|\n",
      "|          give|\n",
      "|          away|\n",
      "|         under|\n",
      "+--------------+\n",
      "only showing top 20 rows\n",
      "\n"
     ]
    }
   ],
   "source": [
    "from pyspark.sql.functions import length\n",
    "min3Zeichen = words_real.where(length(col(\"real_word\")) > 3)\n",
    "min3Zeichen.show()"
   ]
  },
  {
   "cell_type": "code",
   "execution_count": 39,
   "id": "b3158d9d",
   "metadata": {},
   "outputs": [
    {
     "name": "stdout",
     "output_type": "stream",
     "text": [
      "+--------------+\n",
      "|     real_word|\n",
      "+--------------+\n",
      "|       project|\n",
      "|     gutenberg|\n",
      "|  frankenstein|\n",
      "|            by|\n",
      "|          mary|\n",
      "|wollstonecraft|\n",
      "|        godwin|\n",
      "|       shelley|\n",
      "|          this|\n",
      "|         ebook|\n",
      "|            is|\n",
      "|           for|\n",
      "|           the|\n",
      "|           use|\n",
      "|            of|\n",
      "|        anyone|\n",
      "|      anywhere|\n",
      "|            at|\n",
      "|            no|\n",
      "|          cost|\n",
      "+--------------+\n",
      "only showing top 20 rows\n",
      "\n"
     ]
    }
   ],
   "source": [
    "propper_words_any = propper_words.filter(col(\"real_word\") != \"any*\")\n",
    "propper_words_any.show()"
   ]
  },
  {
   "cell_type": "markdown",
   "id": "cd42163b",
   "metadata": {},
   "source": [
    "# Aufgabe 1: erstelle einen Block \"sauberen\" Code, der Schritt für Schritt alle Einzelschritte ausführt"
   ]
  },
  {
   "cell_type": "code",
   "execution_count": 40,
   "id": "52aad109",
   "metadata": {},
   "outputs": [],
   "source": [
    "from pyspark.sql import SparkSession\n",
    "\n",
    "spark = SparkSession.builder.master(\"local[1]\").appName(\"Frankenstein2\").getOrCreate()\n",
    "\n",
    "from pyspark.sql.functions import col, split, explode, lower, regexp_extract\n",
    "\n",
    "frank = spark.read.text(\"frankenstein.txt\")\n",
    "\n",
    "lines = frank.select(split(frank.value, \" \").alias(\"line\"))\n",
    "\n",
    "words = lines.select(explode(col(\"line\")).alias(\"word\"))\n",
    "\n",
    "words_lower = words.select(lower(col(\"word\")).alias(\"word_lower\"))\n",
    "\n",
    "words_clean = words_lower.select(regexp_extract(col(\"word_lower\"), \"[a-z]{2+}|a|i\", 0).alias(\"word\"))\n",
    "\n",
    "words_nonull = words_clean.where(col(\"word\") != \"\")"
   ]
  },
  {
   "cell_type": "code",
   "execution_count": 89,
   "id": "0dd6308a",
   "metadata": {},
   "outputs": [
    {
     "name": "stdout",
     "output_type": "stream",
     "text": [
      "+--------------+\n",
      "|          word|\n",
      "+--------------+\n",
      "|       project|\n",
      "|     gutenberg|\n",
      "|  frankenstein|\n",
      "|            by|\n",
      "|          mary|\n",
      "|wollstonecraft|\n",
      "|        godwin|\n",
      "|       shelley|\n",
      "|          this|\n",
      "|         ebook|\n",
      "|           for|\n",
      "|           the|\n",
      "|           use|\n",
      "|            of|\n",
      "|        anyone|\n",
      "|      anywhere|\n",
      "|            at|\n",
      "|            no|\n",
      "|          cost|\n",
      "|           and|\n",
      "+--------------+\n",
      "only showing top 20 rows\n",
      "\n",
      "+--------------+\n",
      "|    word_lower|\n",
      "+--------------+\n",
      "|       project|\n",
      "|   gutenberg's|\n",
      "| frankenstein,|\n",
      "|          mary|\n",
      "|wollstonecraft|\n",
      "|      (godwin)|\n",
      "|       shelley|\n",
      "|          this|\n",
      "|         ebook|\n",
      "|           for|\n",
      "|           the|\n",
      "|           use|\n",
      "|        anyone|\n",
      "|      anywhere|\n",
      "|          cost|\n",
      "|           and|\n",
      "|          with|\n",
      "|        almost|\n",
      "|  restrictions|\n",
      "|   whatsoever.|\n",
      "+--------------+\n",
      "only showing top 20 rows\n",
      "\n"
     ]
    }
   ],
   "source": [
    "#1b: ändere den Code von eben so, dass:\n",
    "#    ->a) das wort is aus dem gesamten Text entfernt wird\n",
    "\n",
    "words_nois = words_nonull.where(col(\"word\") != \"is\")\n",
    "words_nois.show()\n",
    "#    ->b) nur wörter mit der mindestlänge von 3 Zeichen beibehalten werden\n",
    "from pyspark.sql.functions import length\n",
    "words_min3 = words_lower.where(length(col(\"word\")) >= 3)\n",
    "words_min3.show()\n",
    "\n",
    "words_min3_alt = words_lower.select(regexp_extract(col(\"word_lower\"), \"[a-z]{3,}|a|i\", 0).alias(\"word\"))"
   ]
  },
  {
   "cell_type": "markdown",
   "id": "22f5dfd8",
   "metadata": {},
   "source": [
    "# Aufgabe 2: finde programmatisch heraus, wie viele Spalten KEINE Strings sind:"
   ]
  },
  {
   "cell_type": "code",
   "execution_count": 46,
   "id": "a1697dd7",
   "metadata": {},
   "outputs": [
    {
     "name": "stdout",
     "output_type": "stream",
     "text": [
      "root\n",
      " |-- 1: string (nullable = true)\n",
      " |-- 2: string (nullable = true)\n",
      " |-- 3: long (nullable = true)\n",
      "\n"
     ]
    }
   ],
   "source": [
    "datenA2 = spark.createDataFrame([[\"test\", \"noch ein test\", 10_000_000_000]], [\"1\",\"2\",\"3\"])\n",
    "datenA2.printSchema()"
   ]
  },
  {
   "cell_type": "code",
   "execution_count": 47,
   "id": "dc8002b4",
   "metadata": {},
   "outputs": [
    {
     "name": "stdout",
     "output_type": "stream",
     "text": [
      "+----+-------------+-----------+\n",
      "|   1|            2|          3|\n",
      "+----+-------------+-----------+\n",
      "|test|noch ein test|10000000000|\n",
      "+----+-------------+-----------+\n",
      "\n"
     ]
    }
   ],
   "source": [
    "datenA2.show()"
   ]
  },
  {
   "cell_type": "code",
   "execution_count": 48,
   "id": "4174d761",
   "metadata": {},
   "outputs": [
    {
     "name": "stdout",
     "output_type": "stream",
     "text": [
      "cnt = 1\n"
     ]
    }
   ],
   "source": [
    "cnt = 0\n",
    "for x,y in datenA2.dtypes:\n",
    "    if y != 'string':\n",
    "        cnt+=1\n",
    "print(f'cnt = {cnt}')"
   ]
  },
  {
   "cell_type": "markdown",
   "id": "a729cb0f",
   "metadata": {},
   "source": [
    "# Aufgabe 3: mache den Code lesbar\n",
    "datenA3 = spark.read.text(\"frankenstein.txt\").select(length(col(\"value\"))).withColumnRenamed(\"length(value)\", \"numChar\")\n"
   ]
  },
  {
   "cell_type": "code",
   "execution_count": 49,
   "id": "e93c3769",
   "metadata": {},
   "outputs": [
    {
     "name": "stdout",
     "output_type": "stream",
     "text": [
      "+-------+\n",
      "|numChar|\n",
      "+-------+\n",
      "|      0|\n",
      "|     73|\n",
      "|      0|\n",
      "|     64|\n",
      "|     68|\n",
      "|     67|\n",
      "|     46|\n",
      "|      0|\n",
      "|      0|\n",
      "|     19|\n",
      "|     31|\n",
      "|      0|\n",
      "|     44|\n",
      "|      0|\n",
      "|     39|\n",
      "|     30|\n",
      "|      0|\n",
      "|     17|\n",
      "|      0|\n",
      "|     29|\n",
      "+-------+\n",
      "only showing top 20 rows\n",
      "\n"
     ]
    }
   ],
   "source": [
    "datenA3 = spark.read.text(\"frankenstein.txt\").select(length(col(\"value\"))).withColumnRenamed(\"length(value)\", \"numChar\")\n",
    "datenA3.show()"
   ]
  },
  {
   "cell_type": "code",
   "execution_count": 51,
   "id": "e8cdc4eb",
   "metadata": {},
   "outputs": [
    {
     "name": "stdout",
     "output_type": "stream",
     "text": [
      "+-------+\n",
      "|numChar|\n",
      "+-------+\n",
      "|      0|\n",
      "|     73|\n",
      "|      0|\n",
      "|     64|\n",
      "|     68|\n",
      "|     67|\n",
      "|     46|\n",
      "|      0|\n",
      "|      0|\n",
      "|     19|\n",
      "|     31|\n",
      "|      0|\n",
      "|     44|\n",
      "|      0|\n",
      "|     39|\n",
      "|     30|\n",
      "|      0|\n",
      "|     17|\n",
      "|      0|\n",
      "|     29|\n",
      "+-------+\n",
      "only showing top 20 rows\n",
      "\n"
     ]
    }
   ],
   "source": [
    "datenA3_lösung = spark.read.text(\"frankenstein.txt\").select(length(col(\"value\")).alias(\"numChar\"))\n",
    "datenA3_lösung.show()"
   ]
  },
  {
   "cell_type": "markdown",
   "id": "afe53c30",
   "metadata": {},
   "source": [
    "# Aufgabe 4: Problem im Code reparieren\n"
   ]
  },
  {
   "cell_type": "code",
   "execution_count": 52,
   "id": "ea0926a3",
   "metadata": {},
   "outputs": [
    {
     "name": "stdout",
     "output_type": "stream",
     "text": [
      "root\n",
      " |-- key: string (nullable = true)\n",
      " |-- value1: long (nullable = true)\n",
      " |-- value2: long (nullable = true)\n",
      "\n",
      "+---+--------+-----------+\n",
      "|key|  value1|     value2|\n",
      "+---+--------+-----------+\n",
      "|key|20000000|10000000000|\n",
      "+---+--------+-----------+\n",
      "\n"
     ]
    }
   ],
   "source": [
    "# siehe Musterlösung\n",
    "datenA4 = spark.createDataFrame([[\"key\", 20_000_000, 10_000_000_000]], [\"key\", \"value1\", \"value2\"])\n",
    "datenA4.printSchema()\n",
    "datenA4.show()"
   ]
  },
  {
   "cell_type": "code",
   "execution_count": 57,
   "id": "e8d81f59",
   "metadata": {},
   "outputs": [
    {
     "name": "stdout",
     "output_type": "stream",
     "text": [
      "das war nicht gut Column 'key' does not exist. Did you mean one of the following? [maxVal];\n",
      "'Project ['key, maxVal#273L]\n",
      "+- Project [greatest(value1#245L, value2#246L) AS maxVal#273L]\n",
      "   +- LogicalRDD [key#244, value1#245L, value2#246L], false\n",
      "\n",
      "+-----------+\n",
      "|     maxVal|\n",
      "+-----------+\n",
      "|10000000000|\n",
      "+-----------+\n",
      "\n"
     ]
    }
   ],
   "source": [
    "from pyspark.sql.functions import greatest\n",
    "from pyspark.sql.utils import AnalysisException\n",
    "\n",
    "# pipeline erzeugt neuen dataframe und spalten aus dem alten sind nicht mitgegeben -> key gibt es nicht mehr\n",
    "try:\n",
    "    datenA4M = datenA4.select(greatest(col(\"value1\"), col(\"value2\")).alias(\"maxVal\")).select(\"key\", \"maxVal\")\n",
    "except AnalysisException as err:\n",
    "    print(f'das war nicht gut {err}')\n",
    "datenA4M.show()"
   ]
  },
  {
   "cell_type": "code",
   "execution_count": 59,
   "id": "fa645ee1",
   "metadata": {},
   "outputs": [
    {
     "name": "stdout",
     "output_type": "stream",
     "text": [
      "+---+-----------+\n",
      "|key|     maxVal|\n",
      "+---+-----------+\n",
      "|key|10000000000|\n",
      "+---+-----------+\n",
      "\n"
     ]
    }
   ],
   "source": [
    "# problemlösung\n",
    "from pyspark.sql.functions import greatest\n",
    "from pyspark.sql.utils import AnalysisException\n",
    "\n",
    "# pipeline erzeugt neuen dataframe und spalten aus dem alten sind nicht mitgegeben -> key gibt es nicht mehr\n",
    "try:\n",
    "    datenA4M = datenA4.select(col(\"key\"),greatest(col(\"value1\"), col(\"value2\")).alias(\"maxVal\"))\n",
    "except AnalysisException as err:\n",
    "    print(f'das war nicht gut {err}')\n",
    "datenA4M.show()"
   ]
  },
  {
   "cell_type": "markdown",
   "id": "c3669718",
   "metadata": {},
   "source": [
    "# Aufgabe 5: filtere einen ganzen Haufen Wörter raus\n",
    "mit Hilfe der Funktion isin: filtere die Wörter is, not, if, the aus dem Text"
   ]
  },
  {
   "cell_type": "code",
   "execution_count": 67,
   "id": "9e755806",
   "metadata": {},
   "outputs": [],
   "source": []
  },
  {
   "cell_type": "code",
   "execution_count": 73,
   "id": "8a9fed96",
   "metadata": {},
   "outputs": [
    {
     "name": "stdout",
     "output_type": "stream",
     "text": [
      "+--------------+\n",
      "|          word|\n",
      "+--------------+\n",
      "|       project|\n",
      "|     gutenberg|\n",
      "|  frankenstein|\n",
      "|            by|\n",
      "|          mary|\n",
      "|wollstonecraft|\n",
      "|        godwin|\n",
      "|       shelley|\n",
      "|          this|\n",
      "|         ebook|\n",
      "|            is|\n",
      "|           for|\n",
      "|           the|\n",
      "|           use|\n",
      "|            of|\n",
      "|        anyone|\n",
      "|      anywhere|\n",
      "|            at|\n",
      "|            no|\n",
      "|          cost|\n",
      "+--------------+\n",
      "only showing top 20 rows\n",
      "\n"
     ]
    }
   ],
   "source": [
    "from pyspark.sql import SparkSession\n",
    "\n",
    "spark = SparkSession.builder.master(\"local[1]\").appName(\"Frankenstein2\").getOrCreate()\n",
    "\n",
    "from pyspark.sql.functions import col, split, explode, lower, regexp_extract\n",
    "\n",
    "frank = spark.read.text(\"frankenstein.txt\")\n",
    "\n",
    "lines = frank.select(split(frank.value, \" \").alias(\"line\"))\n",
    "\n",
    "words = lines.select(explode(col(\"line\")).alias(\"word\"))\n",
    "\n",
    "words_lower = words.select(lower(col(\"word\")).alias(\"word_lower\"))\n",
    "\n",
    "words_clean = words_lower.select(regexp_extract(col(\"word_lower\"), \"[a-z]{2,}|a|i\", 0).alias(\"word\"))\n",
    "\n",
    "words_nonull = words_clean.where(col(\"word\") != \"\")\n",
    "words_nonull.show()"
   ]
  },
  {
   "cell_type": "code",
   "execution_count": 74,
   "id": "0ba97ca0",
   "metadata": {},
   "outputs": [
    {
     "name": "stdout",
     "output_type": "stream",
     "text": [
      "+--------------+\n",
      "|          word|\n",
      "+--------------+\n",
      "|       project|\n",
      "|     gutenberg|\n",
      "|  frankenstein|\n",
      "|            by|\n",
      "|          mary|\n",
      "|wollstonecraft|\n",
      "|        godwin|\n",
      "|       shelley|\n",
      "|          this|\n",
      "|         ebook|\n",
      "|           for|\n",
      "|           use|\n",
      "|            of|\n",
      "|        anyone|\n",
      "|      anywhere|\n",
      "|            at|\n",
      "|            no|\n",
      "|          cost|\n",
      "|           and|\n",
      "|          with|\n",
      "+--------------+\n",
      "only showing top 20 rows\n",
      "\n"
     ]
    }
   ],
   "source": [
    "a5 = words_nonull.where(~col(\"word\").isin([\"is\",\"not\",\"if\",\"the\"]))\n",
    "a5.show()"
   ]
  },
  {
   "cell_type": "markdown",
   "id": "aeaf39be",
   "metadata": {},
   "source": [
    "# Aufgabe 6: Debugging\n",
    "finde den Fehler im Code und repariere ihn so, dass der Code wie wohl erwartet funktioniert"
   ]
  },
  {
   "cell_type": "code",
   "execution_count": 80,
   "id": "4763ea0d",
   "metadata": {},
   "outputs": [
    {
     "name": "stdout",
     "output_type": "stream",
     "text": [
      "root\n",
      " |-- value: string (nullable = true)\n",
      "\n",
      "+--------------+\n",
      "|          word|\n",
      "+--------------+\n",
      "|              |\n",
      "|       Project|\n",
      "|   Gutenberg's|\n",
      "| Frankenstein,|\n",
      "|            by|\n",
      "|          Mary|\n",
      "|Wollstonecraft|\n",
      "|      (Godwin)|\n",
      "|       Shelley|\n",
      "|              |\n",
      "|          This|\n",
      "|         eBook|\n",
      "|            is|\n",
      "|           for|\n",
      "|           the|\n",
      "|           use|\n",
      "|            of|\n",
      "|        anyone|\n",
      "|      anywhere|\n",
      "|            at|\n",
      "+--------------+\n",
      "only showing top 20 rows\n",
      "\n"
     ]
    }
   ],
   "source": [
    "from pyspark.sql.functions import col, split\n",
    "from pyspark.sql.utils import AnalysisException\n",
    "\n",
    "try:\n",
    "    book = spark.read.text(\"frankenstein.txt\")\n",
    "    shema = book.printSchema()\n",
    "    lines= book.select(split(book.value, \" \").alias(\"line\"))\n",
    "    words = lines.select(explode(col(\"line\")).alias(\"word\"))\n",
    "\n",
    "except AnalysisException as err:\n",
    "    print(err)\n",
    "\n",
    "words.show()"
   ]
  },
  {
   "cell_type": "markdown",
   "id": "c49bf72e",
   "metadata": {},
   "source": [
    "# Gruppieren\n",
    "Ziel: zählen, wie oft jedes Wort vorkommt. geht count() alleine?"
   ]
  },
  {
   "cell_type": "code",
   "execution_count": 81,
   "id": "d8a31367",
   "metadata": {},
   "outputs": [
    {
     "data": {
      "text/plain": [
       "77907"
      ]
     },
     "execution_count": 81,
     "metadata": {},
     "output_type": "execute_result"
    }
   ],
   "source": [
    "# nur count geht nicht\n",
    "words_nonull.count()"
   ]
  },
  {
   "cell_type": "code",
   "execution_count": 82,
   "id": "9b0a5758",
   "metadata": {},
   "outputs": [
    {
     "name": "stdout",
     "output_type": "stream",
     "text": [
      "<pyspark.sql.group.GroupedData object at 0x7fbb5d5cfeb0>\n"
     ]
    }
   ],
   "source": [
    "groups = words_nonull.groupby(col(\"word\"))\n",
    "print(groups)"
   ]
  },
  {
   "cell_type": "code",
   "execution_count": 84,
   "id": "cc448591",
   "metadata": {},
   "outputs": [
    {
     "name": "stdout",
     "output_type": "stream",
     "text": [
      "+-------------+-----+\n",
      "|         word|count|\n",
      "+-------------+-----+\n",
      "|       online|    4|\n",
      "|        those|   92|\n",
      "|         some|  148|\n",
      "|       voyage|   15|\n",
      "|       harder|    1|\n",
      "|        still|   68|\n",
      "|     painters|    1|\n",
      "|   lieutenant|    2|\n",
      "|          few|   62|\n",
      "|          fog|    1|\n",
      "|       travel|    4|\n",
      "|          art|    7|\n",
      "|    arguments|    7|\n",
      "|         hope|   51|\n",
      "|gratification|    3|\n",
      "| imperatively|    1|\n",
      "|        inner|    1|\n",
      "|apprehensions|    2|\n",
      "|    connected|    7|\n",
      "|   circulates|    1|\n",
      "+-------------+-----+\n",
      "only showing top 20 rows\n",
      "\n"
     ]
    }
   ],
   "source": [
    "wordCount = groups.count()\n",
    "wordCount.show()"
   ]
  },
  {
   "cell_type": "code",
   "execution_count": 88,
   "id": "dccc9a2c",
   "metadata": {},
   "outputs": [
    {
     "name": "stdout",
     "output_type": "stream",
     "text": [
      "+-----+-----+\n",
      "| word|count|\n",
      "+-----+-----+\n",
      "|  the| 4364|\n",
      "|  and| 3040|\n",
      "|    i| 2843|\n",
      "|   of| 2757|\n",
      "|   to| 2172|\n",
      "|   my| 1773|\n",
      "|    a| 1442|\n",
      "|   in| 1184|\n",
      "| that| 1030|\n",
      "|  was| 1022|\n",
      "|   me|  868|\n",
      "| with|  713|\n",
      "|  but|  690|\n",
      "|  had|  686|\n",
      "|  you|  642|\n",
      "|   he|  607|\n",
      "|which|  565|\n",
      "|   it|  562|\n",
      "|   as|  537|\n",
      "|  his|  533|\n",
      "+-----+-----+\n",
      "only showing top 20 rows\n",
      "\n"
     ]
    }
   ],
   "source": [
    "wordCount.sort(\"count\",ascending = False).show()"
   ]
  },
  {
   "cell_type": "markdown",
   "id": "7b7709e7",
   "metadata": {},
   "source": [
    "# Aufgabe: finde die Anzahl der Worte per Anzahl Buchstaben (also: wie viele Worte mit 1, 2, 3, ... Buchstaben)"
   ]
  },
  {
   "cell_type": "code",
   "execution_count": 92,
   "id": "6102eebc",
   "metadata": {},
   "outputs": [
    {
     "name": "stdout",
     "output_type": "stream",
     "text": [
      "+------+-----+\n",
      "|length|count|\n",
      "+------+-----+\n",
      "|     1| 4285|\n",
      "|     2|14235|\n",
      "|     3|16731|\n",
      "|     4|12081|\n",
      "|     5| 7935|\n",
      "|     6| 6549|\n",
      "|     7| 5570|\n",
      "|     8| 3785|\n",
      "|     9| 3302|\n",
      "|    10| 1751|\n",
      "|    11|  985|\n",
      "|    12|  458|\n",
      "|    13|  157|\n",
      "|    14|   58|\n",
      "|    15|   19|\n",
      "|    16|    5|\n",
      "|    18|    1|\n",
      "+------+-----+\n",
      "\n"
     ]
    }
   ],
   "source": [
    "from pyspark.sql.functions import length\n",
    "words_nonull.select(length(col(\"word\")).alias(\"length\")).groupBy(\"length\").count().orderBy(col(\"length\").asc()).show()"
   ]
  },
  {
   "cell_type": "code",
   "execution_count": 93,
   "id": "fa987ca6",
   "metadata": {},
   "outputs": [],
   "source": [
    "words_nonull.write.csv(\"dings.csv\") # -> kann unter umständen in mehrere Dateien gespeichert werden, wenn zu viele Daten, hier gibt es aber eine hilfsfunktion (siehe seine Lösung) "
   ]
  },
  {
   "cell_type": "code",
   "execution_count": null,
   "id": "3ab4d4d5",
   "metadata": {},
   "outputs": [],
   "source": []
  }
 ],
 "metadata": {
  "kernelspec": {
   "display_name": "Python 3 (ipykernel)",
   "language": "python",
   "name": "python3"
  },
  "language_info": {
   "codemirror_mode": {
    "name": "ipython",
    "version": 3
   },
   "file_extension": ".py",
   "mimetype": "text/x-python",
   "name": "python",
   "nbconvert_exporter": "python",
   "pygments_lexer": "ipython3",
   "version": "3.10.8"
  }
 },
 "nbformat": 4,
 "nbformat_minor": 5
}
