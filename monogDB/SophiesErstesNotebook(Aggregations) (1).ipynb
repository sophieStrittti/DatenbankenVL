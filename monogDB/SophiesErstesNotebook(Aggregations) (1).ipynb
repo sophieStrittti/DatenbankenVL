{
 "cells": [
  {
   "cell_type": "code",
   "execution_count": 1,
   "id": "61950f85",
   "metadata": {},
   "outputs": [
    {
     "name": "stdout",
     "output_type": "stream",
     "text": [
      "Database(MongoClient(host=['localhost:27017'], document_class=dict, tz_aware=False, connect=True), 'mflix')\n"
     ]
    }
   ],
   "source": [
    "import pymongo\n",
    "from pprint import pprint\n",
    "\n",
    "client = pymongo.MongoClient(\"mongodb://localhost:27017\")\n",
    "db = client[\"mflix\"]\n",
    "my_collection = db[\"movies_initial\"]\n"
   ]
  },
  {
   "cell_type": "code",
   "execution_count": 3,
   "id": "dc3e7a71",
   "metadata": {},
   "outputs": [
    {
     "name": "stdout",
     "output_type": "stream",
     "text": [
      "{'_id': ObjectId('6384c56d6a4fef4ccfbb6b6f'),\n",
      " 'awards': '',\n",
      " 'cast': 'Brad Pitt, Christian Bale, Selena Gomez, Karen Gillan',\n",
      " 'country': 'USA',\n",
      " 'director': 'Adam McKay',\n",
      " 'fullplot': 'The men who made millions from a global economic meltdown.',\n",
      " 'genre': 'Drama',\n",
      " 'imdbID': 1596363,\n",
      " 'imdbRating': '',\n",
      " 'imdbVotes': '',\n",
      " 'language': '',\n",
      " 'lastupdated': '2015-09-12 00:20:34.633000000',\n",
      " 'metacritic': '',\n",
      " 'plot': 'The men who made millions from a global economic meltdown.',\n",
      " 'poster': '',\n",
      " 'rating': '',\n",
      " 'released': '',\n",
      " 'runtime': '',\n",
      " 'title': 'The Big Short',\n",
      " 'type': 'movie',\n",
      " 'writer': 'Michael Lewis (based on the book by), Adam McKay (screenplay), '\n",
      "           'Charles Randolph (screenplay)',\n",
      " 'year': 2016}\n"
     ]
    }
   ],
   "source": [
    "pprint(client.mflix.movies_initial.find_one({\"title\": \"The Big Short\"}))\n"
   ]
  },
  {
   "cell_type": "code",
   "execution_count": null,
   "id": "7e1ff4ad",
   "metadata": {},
   "outputs": [],
   "source": [
    "pipeline = [ {\n",
    "   \"$group\": {\n",
    "         \"_id\": \"$language\",\n",
    "         # Count the number of movies in the group:\n",
    "         \"movie_count\": { \"$count\": {} }, \n",
    "         \n",
    "   }\n",
    "}]\n",
    "\n",
    "results = my_collection.aggregate(pipeline)\n",
    "for type in results:\n",
    "    pprint(type)\n"
   ]
  },
  {
   "cell_type": "code",
   "execution_count": 6,
   "id": "0d5b3906",
   "metadata": {},
   "outputs": [],
   "source": [
    "pipeline = [ \n",
    "    {\n",
    "       '$match': {\n",
    "           'language': {'$regex': \"^Englisch\"}\n",
    "       } \n",
    "    },\n",
    "    {\n",
    "       \"$group\": {\n",
    "             \"_id\": \"$language\",\n",
    "             # Count the number of movies in the group:\n",
    "             \"movie_count\": { \"$count\": {} }, \n",
    "         \n",
    "   }\n",
    "}]\n",
    "\n",
    "results = my_collection.aggregate(pipeline)\n",
    "for type in results:\n",
    "    pprint(type)"
   ]
  },
  {
   "cell_type": "code",
   "execution_count": null,
   "id": "5669fe9b",
   "metadata": {
    "scrolled": true
   },
   "outputs": [],
   "source": [
    "pipeline = [ \n",
    "    {\n",
    "       \"$group\": {\n",
    "             \"_id\": \"$language\",\n",
    "             \"movie_count\": { \"$sum\": 1 },     \n",
    "       }\n",
    "    },  \n",
    "    {\n",
    "       \"$sort\": { \"movie_count\": pymongo.DESCENDING }\n",
    "    }\n",
    "]\n",
    "\n",
    "results = my_collection.aggregate(pipeline)\n",
    "for type in results:\n",
    "    pprint(type)"
   ]
  },
  {
   "cell_type": "code",
   "execution_count": null,
   "id": "f1c872c9",
   "metadata": {},
   "outputs": [],
   "source": [
    "pipeline = [ \n",
    "    {\n",
    "        '$sortByCount': \"$language\"\n",
    "    }\n",
    "]\n",
    "\n",
    "results = my_collection.aggregate(pipeline)\n",
    "for type in results:\n",
    "    pprint(type)"
   ]
  },
  {
   "cell_type": "code",
   "execution_count": 10,
   "id": "e03862c7",
   "metadata": {},
   "outputs": [
    {
     "name": "stdout",
     "output_type": "stream",
     "text": [
      "[{'year': 46014}]\n"
     ]
    }
   ],
   "source": [
    "cnt1Pipeline = [ { '$count': 'year' } ] \n",
    "pprint(list(my_collection.aggregate(cnt1Pipeline)))"
   ]
  },
  {
   "cell_type": "code",
   "execution_count": 11,
   "id": "75322533",
   "metadata": {},
   "outputs": [
    {
     "name": "stdout",
     "output_type": "stream",
     "text": [
      "[{'director': 46014}]\n"
     ]
    }
   ],
   "source": [
    "cnt2Pipeline = [ { '$count': 'director' } ] \n",
    "pprint(list(my_collection.aggregate(cnt2Pipeline)))"
   ]
  },
  {
   "cell_type": "code",
   "execution_count": 12,
   "id": "b33c8c7b",
   "metadata": {},
   "outputs": [
    {
     "name": "stdout",
     "output_type": "stream",
     "text": [
      "[{'writer': 46014}]\n"
     ]
    }
   ],
   "source": [
    "cnt3Pipeline = [ { '$count': 'writer' } ] \n",
    "pprint(list(my_collection.aggregate(cnt3Pipeline)))"
   ]
  },
  {
   "cell_type": "code",
   "execution_count": 19,
   "id": "bab4acfe",
   "metadata": {},
   "outputs": [
    {
     "name": "stdout",
     "output_type": "stream",
     "text": [
      "{'_id': '1', 'max': '2016�', 'min': 1874}\n"
     ]
    }
   ],
   "source": [
    "pipeline = [ \n",
    "    \n",
    "    {\n",
    "        '$group': {\n",
    "          '_id': '1',\n",
    "          'max': { '$max': '$year' },\n",
    "          'min': { '$min': '$year'}  \n",
    "        },\n",
    "    }\n",
    "]\n",
    "\n",
    "results = my_collection.aggregate(pipeline)\n",
    "for type in results:\n",
    "    pprint(type)\n"
   ]
  },
  {
   "cell_type": "code",
   "execution_count": null,
   "id": "48b0127c",
   "metadata": {},
   "outputs": [],
   "source": [
    "import pymongo\n",
    "from pprint import pprint\n",
    "\n",
    "client = pymongo.MongoClient(\"mongodb://localhost:27017\")\n",
    "db = client[\"mflix\"]\n",
    "my_collection = db[\"movies_initial\"]\n",
    "\n",
    "pipelineFindAll = [ \n",
    "    {\n",
    "        '$project': {\n",
    "          '_id': 1, \n",
    "          'year': 1\n",
    "        }\n",
    "    } \n",
    "]\n",
    "\n",
    "results = list(my_collection.aggregate(pipelineFindAll))\n",
    "for i in results:\n",
    "    print(i)"
   ]
  },
  {
   "cell_type": "code",
   "execution_count": 9,
   "id": "858068ce",
   "metadata": {},
   "outputs": [],
   "source": [
    "from bson.objectid import ObjectId"
   ]
  },
  {
   "cell_type": "code",
   "execution_count": 16,
   "id": "146accd2",
   "metadata": {},
   "outputs": [
    {
     "ename": "KeyError",
     "evalue": "'year'",
     "output_type": "error",
     "traceback": [
      "\u001b[1;31m---------------------------------------------------------------------------\u001b[0m",
      "\u001b[1;31mKeyError\u001b[0m                                  Traceback (most recent call last)",
      "Cell \u001b[1;32mIn [16], line 2\u001b[0m\n\u001b[0;32m      1\u001b[0m \u001b[38;5;28;01mfor\u001b[39;00m e \u001b[38;5;129;01min\u001b[39;00m results:\n\u001b[1;32m----> 2\u001b[0m     \u001b[38;5;28;01mif\u001b[39;00m \u001b[38;5;28misinstance\u001b[39m(\u001b[43me\u001b[49m\u001b[43m[\u001b[49m\u001b[38;5;124;43m\"\u001b[39;49m\u001b[38;5;124;43myear\u001b[39;49m\u001b[38;5;124;43m\"\u001b[39;49m\u001b[43m]\u001b[49m, \u001b[38;5;28mstr\u001b[39m):\n\u001b[0;32m      3\u001b[0m         updateStringID \u001b[38;5;241m=\u001b[39m { \u001b[38;5;124m'\u001b[39m\u001b[38;5;124m_id\u001b[39m\u001b[38;5;124m'\u001b[39m: e[\u001b[38;5;124m\"\u001b[39m\u001b[38;5;124m_id\u001b[39m\u001b[38;5;124m\"\u001b[39m] }\n\u001b[0;32m      4\u001b[0m         updateStringDate \u001b[38;5;241m=\u001b[39m { \u001b[38;5;124m'\u001b[39m\u001b[38;5;124m$set\u001b[39m\u001b[38;5;124m'\u001b[39m: { \u001b[38;5;124m'\u001b[39m\u001b[38;5;124myear\u001b[39m\u001b[38;5;124m'\u001b[39m: \u001b[38;5;28mint\u001b[39m(e[\u001b[38;5;124m\"\u001b[39m\u001b[38;5;124myear\u001b[39m\u001b[38;5;124m\"\u001b[39m][\u001b[38;5;241m0\u001b[39m:\u001b[38;5;241m4\u001b[39m])}}\n",
      "\u001b[1;31mKeyError\u001b[0m: 'year'"
     ]
    }
   ],
   "source": [
    "#for e in results:\n",
    " #   if isinstance(e[\"year\"], str):\n",
    "  #      updateStringID = { '_id': e[\"_id\"] }\n",
    "   #     updateStringDate = { '$set': { 'year': int(e[\"year\"][0:4])}}\n",
    "    #    pprint(f\"Update {e['year']} -> {updateStringID}, {updateStringDate}\")\n",
    "     #   my_collection.update_one(updateStringID, updateStringDate)"
   ]
  },
  {
   "cell_type": "code",
   "execution_count": 15,
   "id": "153cc891",
   "metadata": {},
   "outputs": [
    {
     "name": "stdout",
     "output_type": "stream",
     "text": [
      "{'_id': '1', 'max': 2019, 'min': 1874}\n"
     ]
    }
   ],
   "source": [
    "pipeline = [ \n",
    "    \n",
    "    {\n",
    "        '$group': {\n",
    "          '_id': '1',\n",
    "          'max': { '$max': '$year' },\n",
    "          'min': { '$min': '$year'}  \n",
    "        },\n",
    "    }\n",
    "]\n",
    "\n",
    "results = list(my_collection.aggregate(pipeline))\n",
    "for type in results:\n",
    "    pprint(type)"
   ]
  },
  {
   "cell_type": "code",
   "execution_count": 18,
   "id": "afe75dd6",
   "metadata": {},
   "outputs": [
    {
     "name": "stdout",
     "output_type": "stream",
     "text": [
      "2019\n",
      "1874\n"
     ]
    }
   ],
   "source": [
    "maxYear = int(results[0][\"max\"])\n",
    "minYear = int(results[0][\"min\"])\n",
    "print(maxYear)\n",
    "print(minYear)"
   ]
  },
  {
   "cell_type": "code",
   "execution_count": null,
   "id": "6da7c3dd",
   "metadata": {},
   "outputs": [],
   "source": [
    "pipeline=[\n",
    "    # die match-Klausel ist fuer Aufgabe 1b - nur Sprachkombis, die mit \"English\" anfangen\n",
    "    {\n",
    "        '$match': {\n",
    "            'language': { '$regex': \"^English\" }\n",
    "        }\n",
    "    },\n",
    "    {\n",
    "        '$group': {\n",
    "            '_id': \"$language\",\n",
    "            'cnt': { '$sum': 1 },\n",
    "            # 'cntcnt': { '$count': {}}\n",
    "        }\n",
    "    }\n",
    "]\n",
    "\n",
    "pprint(list(my_collection.aggregate(pipeline)))"
   ]
  },
  {
   "cell_type": "code",
   "execution_count": 25,
   "id": "6969bb2b",
   "metadata": {},
   "outputs": [
    {
     "name": "stdout",
     "output_type": "stream",
     "text": [
      "[{'_id': 2016, 'movie_count': 523}]\n"
     ]
    }
   ],
   "source": [
    "pipelineYear2016=[\n",
    "    {\n",
    "        '$match': {\n",
    "            'year': 2016\n",
    "        }\n",
    "    },\n",
    "    \n",
    "    #braucht nicht zwingend ein group, hätte auch einfach nur count direkt machen können -> in der Praxis eher nutzen\n",
    "    {\n",
    "       \"$group\": {\n",
    "             \"_id\": \"$year\",\n",
    "             # Count the number of movies in the group:\n",
    "             \"movie_count\": { \"$count\": {} } \n",
    "         \n",
    "       }\n",
    "    }\n",
    "]\n",
    "\n",
    "pprint(list(my_collection.aggregate(pipelineYear2016)))"
   ]
  },
  {
   "cell_type": "code",
   "execution_count": 27,
   "id": "b10e2733",
   "metadata": {},
   "outputs": [
    {
     "name": "stdout",
     "output_type": "stream",
     "text": [
      "1874\n",
      "2019\n",
      "[{'_id': '1', 'max': 2019, 'min': 1874}]\n"
     ]
    }
   ],
   "source": [
    "print(minYear)\n",
    "print(maxYear)"
   ]
  },
  {
   "cell_type": "code",
   "execution_count": 35,
   "id": "30d7b9a5",
   "metadata": {},
   "outputs": [
    {
     "name": "stdout",
     "output_type": "stream",
     "text": [
      "1874\n"
     ]
    }
   ],
   "source": [
    "pipelineYears=[\n",
    "    {\n",
    "        \"$group\": {\n",
    "            \"_id\": \"$year\"\n",
    "        }\n",
    "    },\n",
    "    {\n",
    "       \"$sort\": { \"_id\": pymongo.ASCENDING }\n",
    "    }\n",
    "]\n",
    "\n",
    "years = list(my_collection.aggregate(pipelineYears))\n",
    "print(years[0]['_id'])\n"
   ]
  },
  {
   "cell_type": "code",
   "execution_count": 46,
   "id": "e2e8fe3e",
   "metadata": {},
   "outputs": [
    {
     "name": "stdout",
     "output_type": "stream",
     "text": [
      "0.001995\n"
     ]
    }
   ],
   "source": [
    "import json\n",
    "import datetime\n",
    "\n",
    "start = datetime.datetime.now()\n",
    "i = 0\n",
    "for n in years:\n",
    "    query = '{\"year\": ' + str(years[i]['_id']) + '}'\n",
    "    query = json.loads(query)\n",
    "    i=i+1\n",
    "    find = my_collection.find(query)\n",
    "end = datetime.datetime.now() \n",
    "diff = (end - start).total_seconds()\n",
    "print(diff)"
   ]
  },
  {
   "cell_type": "code",
   "execution_count": 50,
   "id": "b753f59b",
   "metadata": {},
   "outputs": [
    {
     "name": "stdout",
     "output_type": "stream",
     "text": [
      "3.785547\n"
     ]
    }
   ],
   "source": [
    "start = datetime.datetime.now()\n",
    "\n",
    "i = 0\n",
    "for n in years:\n",
    "    pipelineFindPerYear = [\n",
    "        {\n",
    "            \"$match\": {\n",
    "                'year': years[0]['_id']\n",
    "            }\n",
    "        }\n",
    "    ]\n",
    "\n",
    "    resultsPerYear = my_collection.aggregate(pipelineFindPerYear)\n",
    "\n",
    "end = datetime.datetime.now() \n",
    "diff = (end - start).total_seconds()\n",
    "print(diff)"
   ]
  },
  {
   "cell_type": "code",
   "execution_count": 48,
   "id": "b55aaf97",
   "metadata": {},
   "outputs": [
    {
     "name": "stdout",
     "output_type": "stream",
     "text": [
      "[1874, 1880, 1887, 1888, 1890, 1891, 1892, 1893, 1894, 1895, 1896, 1897, 1898, 1899, 1900, 1901, 1902, 1903, 1904, 1905, 1906, 1907, 1908, 1909, 1910, 1911, 1912, 1913, 1914, 1915, 1916, 1917, 1918, 1919, 1920, 1921, 1922, 1923, 1924, 1925, 1926, 1927, 1928, 1929, 1930, 1931, 1932, 1933, 1934, 1935, 1936, 1937, 1938, 1939, 1940, 1941, 1942, 1943, 1944, 1945, 1946, 1947, 1948, 1949, 1950, 1951, 1952, 1953, 1954, 1955, 1956, 1957, 1958, 1959, 1960, 1961, 1962, 1963, 1964, 1965, 1966, 1967, 1968, 1969, 1970, 1971, 1972, 1973, 1974, 1975, 1976, 1977, 1978, 1979, 1980, 1981, 1982, 1983, 1984, 1985, 1986, 1987, 1988, 1989, 1990, 1991, 1992, 1993, 1994, 1995, 1996, 1997, 1998, 1999, 2000, 2001, 2002, 2003, 2004, 2005, 2006, 2007, 2008, 2009, 2010, 2011, 2012, 2013, 2014, 2015, 2016, 2017, 2018, 2019]\n"
     ]
    }
   ],
   "source": [
    "jahresliste = my_collection.distinct('year')\n",
    "print(jahresliste)"
   ]
  },
  {
   "cell_type": "code",
   "execution_count": 49,
   "id": "915be814",
   "metadata": {},
   "outputs": [],
   "source": [
    "# find lazy, aggregation pipeline nicht. bei find iterator und liefert nicht alle ergebnisse gleichzeitig, bei list wird alles daraus genommen bis es nichts mehr gibt, ohne list das erste ergebnis oder keins. \"Lazy evaluation\" (kann sehr gut in der klausur vorkommen, vlt lieber lazy den find als agg. pipeline)"
   ]
  },
  {
   "cell_type": "markdown",
   "id": "be1337b9",
   "metadata": {},
   "source": [
    "# Aufgabe 8\n",
    "finde alle Filme von 2016 und gruppiere sie nach rating zusammen mit der Anzahl der jeweiligen Art von rating, aufsteigend sortiert\n"
   ]
  },
  {
   "cell_type": "code",
   "execution_count": 62,
   "id": "98dc0914",
   "metadata": {},
   "outputs": [
    {
     "name": "stdout",
     "output_type": "stream",
     "text": [
      "{'_id': 'PG-13', 'rating_count': 1}\n",
      "{'_id': 'R', 'rating_count': 5}\n",
      "{'_id': '', 'rating_count': 517}\n"
     ]
    }
   ],
   "source": [
    "pipeline8=[\n",
    "    {\n",
    "        '$match': {\n",
    "            'year': 2016\n",
    "        } \n",
    "    },\n",
    "    {\n",
    "        '$group': {\n",
    "            '_id': '$rating',\n",
    "            'rating_count': { '$count': {} }\n",
    "       }\n",
    "    },\n",
    "    {\n",
    "        '$sort': { \"rating_count\": 1 }\n",
    "    }\n",
    "#    {\n",
    " #       '$sortByCount': \"$rating\"\n",
    "  #  }\n",
    "]\n",
    "\n",
    "results8 = my_collection.aggregate(pipeline8)\n",
    "for r in results8:\n",
    "    pprint(r)"
   ]
  },
  {
   "cell_type": "markdown",
   "id": "89e3ba02",
   "metadata": {},
   "source": [
    "# Aufgabe 9\n",
    "finde alle Short Filme die seit 2000 produziert wurden:\n",
    "\n",
    "- wie viele waren es?\n",
    "- liste jeweils den Titel und das Jahr, alphabetisch nach Titel sortiert\n",
    "- die resultierenden Daten sollen in der DB ShortMovies in der Collection 2000er stehen"
   ]
  },
  {
   "cell_type": "code",
   "execution_count": 85,
   "id": "3d3ad320",
   "metadata": {},
   "outputs": [
    {
     "name": "stdout",
     "output_type": "stream",
     "text": [
      "\" a) {'genre': 559}\"\n"
     ]
    }
   ],
   "source": [
    "pipeline9 = [\n",
    "    {\n",
    "        '$match': {\n",
    "            'year': { '$gt': 1999 },\n",
    "            'genre': { '$regex': \"Short\" }\n",
    "        }\n",
    "    },\n",
    "    {\n",
    "        '$count': \"genre\"\n",
    "    }\n",
    "]\n",
    "\n",
    "results9 = my_collection.aggregate(pipeline9)\n",
    "for res in results9:\n",
    "    pprint(f\" a) {res}\")"
   ]
  },
  {
   "cell_type": "code",
   "execution_count": null,
   "id": "73153616",
   "metadata": {},
   "outputs": [],
   "source": [
    "pipeline9b = [\n",
    "    {\n",
    "        '$match': {\n",
    "            'year': { '$gt': 1999 },\n",
    "            'genre': { '$regex': \".*Short.*\" }\n",
    "        }\n",
    "    },\n",
    "    {\n",
    "        '$project': {\n",
    "            'year': 1,\n",
    "            'title': 1\n",
    "        }   \n",
    "    },\n",
    "    {\n",
    "        '$group': {\n",
    "            '_id': '$title',\n",
    "            'year': { '$first': '$year'}\n",
    "        }\n",
    "    },\n",
    "    {\n",
    "       \"$sort\": { '_id': pymongo.ASCENDING }\n",
    "    }\n",
    "]\n",
    "\n",
    "results9b = list(my_collection.aggregate(pipeline9b))\n",
    "for res in results9b:\n",
    "    pprint(res)"
   ]
  },
  {
   "cell_type": "code",
   "execution_count": 90,
   "id": "525a7177",
   "metadata": {},
   "outputs": [],
   "source": [
    "pipeline9c = [\n",
    "    {\n",
    "        '$match': {\n",
    "            'year': { '$gt': 1999 },\n",
    "            'genre': { '$regex': \".*Short.*\" }\n",
    "        }\n",
    "    },\n",
    "    {\n",
    "        '$project': {\n",
    "            'year': 1,\n",
    "            'title': 1\n",
    "        }   \n",
    "    },\n",
    "    {\n",
    "        '$group': {\n",
    "            '_id': '$title',\n",
    "            'year': { '$first': '$year'}\n",
    "        }\n",
    "    },\n",
    "    {\n",
    "       \"$sort\": { '_id': pymongo.ASCENDING }\n",
    "    },\n",
    "    {\n",
    "        '$out': { 'db': 'ShortMovies', 'coll': '2000er'}\n",
    "    }\n",
    "]\n",
    "\n",
    "res9c = my_collection.aggregate(pipeline9c)"
   ]
  },
  {
   "cell_type": "code",
   "execution_count": null,
   "id": "77a7200c",
   "metadata": {},
   "outputs": [],
   "source": []
  },
  {
   "cell_type": "code",
   "execution_count": null,
   "id": "1f11be98",
   "metadata": {},
   "outputs": [],
   "source": []
  }
 ],
 "metadata": {
  "kernelspec": {
   "display_name": "mongodb_kernel",
   "language": "python",
   "name": "mongodb_kernel"
  },
  "language_info": {
   "codemirror_mode": {
    "name": "ipython",
    "version": 3
   },
   "file_extension": ".py",
   "mimetype": "text/x-python",
   "name": "python",
   "nbconvert_exporter": "python",
   "pygments_lexer": "ipython3",
   "version": "3.9.15"
  }
 },
 "nbformat": 4,
 "nbformat_minor": 5
}
